{
 "cells": [
  {
   "cell_type": "markdown",
   "id": "605265e4",
   "metadata": {
    "deletable": false,
    "editable": false,
    "nbgrader": {
     "cell_type": "markdown",
     "checksum": "6459b727c1638a230daacfb6ef62bb5e",
     "grade": false,
     "grade_id": "cell-0f8d2f9dca105616",
     "locked": true,
     "schema_version": 3,
     "solution": false,
     "task": false
    }
   },
   "source": [
    "# Problem Set 02\n",
    "\n",
    "## POLI 175 - Machine Learning for Social Scientists\n",
    "\n",
    "### Due Date: 02/22/2023\n",
    "\n",
    "In this problem set we will play with the Civil Conflict dataset. You can find it in [here](https://github.com/umbertomig/POLI175public/tree/main/data/mshk-pa-2017).\n",
    "\n",
    "The file you are going to use for this PS is the `SambanisImp.csv`. The code book is also on the folder.\n",
    "\n",
    "The full paper compares Random Forests with Logistic Regressions to predict civil conflict. You can find it in here: [full paper](https://doi.org/10.1093/pan/mpv024)"
   ]
  },
  {
   "cell_type": "markdown",
   "id": "7690c94d",
   "metadata": {
    "deletable": false,
    "editable": false,
    "nbgrader": {
     "cell_type": "markdown",
     "checksum": "bba02f46233850e74323bf9fedd378c4",
     "grade": false,
     "grade_id": "cell-b9dd9574744d013f",
     "locked": true,
     "schema_version": 3,
     "solution": false,
     "task": false
    }
   },
   "source": [
    "# 1. Loading Packages\n",
    "\n",
    "Load:\n",
    "\n",
    "- pandas\n",
    "- numpy\n",
    "- matplotlib.pyplot\n",
    "- seaborn\n",
    "- sklearn (I'd suggest pretty much all the packs we used in class)\n",
    "\n",
    "Alias them in the standard way. Warning: do not load the `DecisionBoundaryDisplay`."
   ]
  },
  {
   "cell_type": "code",
   "execution_count": null,
   "id": "88d97f4f",
   "metadata": {
    "deletable": false,
    "nbgrader": {
     "cell_type": "code",
     "checksum": "f7627495e237005729d70ff3733c32cc",
     "grade": false,
     "grade_id": "cell-ad2435cff0a8cfd9",
     "locked": false,
     "schema_version": 3,
     "solution": true,
     "task": false
    }
   },
   "outputs": [],
   "source": [
    "# your code here\n",
    "raise NotImplementedError"
   ]
  },
  {
   "cell_type": "code",
   "execution_count": null,
   "id": "99e751b1",
   "metadata": {
    "deletable": false,
    "editable": false,
    "nbgrader": {
     "cell_type": "code",
     "checksum": "a3e780b0cad8cc5e34869e31a5734ada",
     "grade": true,
     "grade_id": "cell-743491bf46f29312",
     "locked": true,
     "points": 0.5,
     "schema_version": 3,
     "solution": false,
     "task": false
    }
   },
   "outputs": [],
   "source": [
    "# Testing\n",
    "assert 'np' in dir()\n",
    "assert 'pd' in dir()\n",
    "assert 'plt' in dir()\n",
    "assert 'sns' in dir()\n"
   ]
  },
  {
   "cell_type": "markdown",
   "id": "41cab880",
   "metadata": {
    "deletable": false,
    "editable": false,
    "nbgrader": {
     "cell_type": "markdown",
     "checksum": "1775aeebda2521a7bec78e6b6a226856",
     "grade": false,
     "grade_id": "cell-d6a2587f476dea36",
     "locked": true,
     "schema_version": 3,
     "solution": false,
     "task": false
    }
   },
   "source": [
    "# 2. Loading Data\n",
    "\n",
    "Load the dataset and save it in an object called `dat`."
   ]
  },
  {
   "cell_type": "code",
   "execution_count": null,
   "id": "949fdffd",
   "metadata": {
    "deletable": false,
    "nbgrader": {
     "cell_type": "code",
     "checksum": "e2fa389713cb2262d2b5b80755ebd9d9",
     "grade": false,
     "grade_id": "cell-c8dc3385e93dd279",
     "locked": false,
     "schema_version": 3,
     "solution": true,
     "task": false
    }
   },
   "outputs": [],
   "source": [
    "# your code here\n",
    "raise NotImplementedError"
   ]
  },
  {
   "cell_type": "code",
   "execution_count": null,
   "id": "72173db9",
   "metadata": {
    "deletable": false,
    "editable": false,
    "nbgrader": {
     "cell_type": "code",
     "checksum": "958c49f9e85b2a756815ea99a0e37ae1",
     "grade": true,
     "grade_id": "cell-afd5d022b58f6a54",
     "locked": true,
     "points": 1,
     "schema_version": 3,
     "solution": false,
     "task": false
    }
   },
   "outputs": [],
   "source": [
    "assert type(dat) == pd.core.frame.DataFrame\n"
   ]
  },
  {
   "cell_type": "markdown",
   "id": "4b35f77d",
   "metadata": {
    "deletable": false,
    "editable": false,
    "nbgrader": {
     "cell_type": "markdown",
     "checksum": "fe9fb73087cf06f3dbb81437ea9a89b2",
     "grade": false,
     "grade_id": "cell-4effaf52b2c07183",
     "locked": true,
     "schema_version": 3,
     "solution": false,
     "task": false
    }
   },
   "source": [
    "# 3. Subsetting\n",
    "\n",
    "The are too many variables, some of them not useful. We are going to use the same as the used in [Hegre and Sambanis (2006)](https://journals.sagepub.com/doi/pdf/10.1177/0022002706289303). Subset your data to only keep these variables."
   ]
  },
  {
   "cell_type": "code",
   "execution_count": null,
   "id": "e412b5b8",
   "metadata": {
    "deletable": false,
    "editable": false,
    "nbgrader": {
     "cell_type": "code",
     "checksum": "4cd1f94b7d9d32f13cb61918fa5b123c",
     "grade": false,
     "grade_id": "cell-49f54276adff4ddc",
     "locked": true,
     "schema_version": 3,
     "solution": false,
     "task": false
    }
   },
   "outputs": [],
   "source": [
    "## Sambanis vars\n",
    "sambvars = [\"warstds\", \"ager\", \"agexp\", \"anoc\", \"army85\", \"autch98\", \n",
    "            \"auto4\",\"autonomy\", \"avgnabo\", \"centpol3\", \"coldwar\", \n",
    "            \"decade1\", \"decade2\",\"decade3\", \"decade4\", \"dem\", \"dem4\", \n",
    "            \"demch98\", \"dlang\", \"drel\", \"durable\", \"ef\", \"ef2\", \"ehet\", \n",
    "            \"elfo\", \"elfo2\", \"etdo4590\", \"expgdp\", \"exrec\", \"fedpol3\", \n",
    "            \"fuelexp\", \"gdpgrowth\", \"geo1\", \"geo2\", \"geo34\", \"geo57\", \n",
    "            \"geo69\", \"geo8\", \"illiteracy\", \"incumb\", \"infant\", \"inst\", \n",
    "            \"inst3\", \"life\", \"lmtnest\", \"ln_gdpen\", \"lpopns\", \"major\", \n",
    "            \"manuexp\", \"milper\", \"mirps0\", \"mirps1\", \"mirps2\", \"mirps3\", \n",
    "            \"nat_war\", \"ncontig\", \"nmgdp\", \"nmdp4_alt\", \"numlang\", \n",
    "            \"nwstate\", \"oil\", \"p4mchg\", \"parcomp\", \"parreg\", \"part\", \n",
    "            \"partfree\", \"plural\", \"plurrel\", \"pol4\", \"pol4m\", \"pol4sq\", \n",
    "            \"polch98\", \"polcomp\", \"popdense\", \"presi\", \"pri\", \"proxregc\", \n",
    "            \"ptime\", \"reg\", \"regd4_alt\", \"relfrac\", \"seceduc\", \"second\", \n",
    "            \"semipol3\", \"sip2\", \"sxpnew\", \"sxpsq\", \"tnatwar\", \"trade\",\n",
    "            \"warhist\", \"xconst\"]\n",
    "\n",
    "## Target variable\n",
    "target = \"warstds\"\n",
    "\n",
    "## Predictors\n",
    "predictors = [\"ager\", \"agexp\", \"anoc\", \"army85\", \"autch98\", \n",
    "            \"auto4\",\"autonomy\", \"avgnabo\", \"centpol3\", \"coldwar\", \n",
    "            \"decade1\", \"decade2\",\"decade3\", \"decade4\", \"dem\", \"dem4\", \n",
    "            \"demch98\", \"dlang\", \"drel\", \"durable\", \"ef\", \"ef2\", \"ehet\", \n",
    "            \"elfo\", \"elfo2\", \"etdo4590\", \"expgdp\", \"exrec\", \"fedpol3\", \n",
    "            \"fuelexp\", \"gdpgrowth\", \"geo1\", \"geo2\", \"geo34\", \"geo57\", \n",
    "            \"geo69\", \"geo8\", \"illiteracy\", \"incumb\", \"infant\", \"inst\", \n",
    "            \"inst3\", \"life\", \"lmtnest\", \"ln_gdpen\", \"lpopns\", \"major\", \n",
    "            \"manuexp\", \"milper\", \"mirps0\", \"mirps1\", \"mirps2\", \"mirps3\", \n",
    "            \"nat_war\", \"ncontig\", \"nmgdp\", \"nmdp4_alt\", \"numlang\", \n",
    "            \"nwstate\", \"oil\", \"p4mchg\", \"parcomp\", \"parreg\", \"part\", \n",
    "            \"partfree\", \"plural\", \"plurrel\", \"pol4\", \"pol4m\", \"pol4sq\", \n",
    "            \"polch98\", \"polcomp\", \"popdense\", \"presi\", \"pri\", \"proxregc\", \n",
    "            \"ptime\", \"reg\", \"regd4_alt\", \"relfrac\", \"seceduc\", \"second\", \n",
    "            \"semipol3\", \"sip2\", \"sxpnew\", \"sxpsq\", \"tnatwar\", \"trade\",\n",
    "            \"warhist\", \"xconst\"]"
   ]
  },
  {
   "cell_type": "code",
   "execution_count": null,
   "id": "03d0c41f",
   "metadata": {
    "deletable": false,
    "nbgrader": {
     "cell_type": "code",
     "checksum": "89222028b118a9e4706fc2f53a6db0d1",
     "grade": false,
     "grade_id": "cell-efc94562934e65e6",
     "locked": false,
     "schema_version": 3,
     "solution": true,
     "task": false
    }
   },
   "outputs": [],
   "source": [
    "# your code here\n",
    "raise NotImplementedError"
   ]
  },
  {
   "cell_type": "code",
   "execution_count": null,
   "id": "f91375c7",
   "metadata": {
    "deletable": false,
    "editable": false,
    "nbgrader": {
     "cell_type": "code",
     "checksum": "6697481001d14c6ad8458ed6e8ac308c",
     "grade": true,
     "grade_id": "cell-9f72db4416a18450",
     "locked": true,
     "points": 1,
     "schema_version": 3,
     "solution": false,
     "task": false
    }
   },
   "outputs": [],
   "source": [
    "assert dat.columns[1] == 'ager'\n"
   ]
  },
  {
   "cell_type": "markdown",
   "id": "f8890edd",
   "metadata": {
    "deletable": false,
    "editable": false,
    "nbgrader": {
     "cell_type": "markdown",
     "checksum": "2a2c67546b7548d7d0e72d8c3dc9145f",
     "grade": false,
     "grade_id": "cell-b3208b989cc774cd",
     "locked": true,
     "schema_version": 3,
     "solution": false,
     "task": false
    }
   },
   "source": [
    "# 4. Linear Regression\n",
    "\n",
    "Your target variable in here is `warstds`, which means whether a country is experiencing conflict or not. I saved it in an object called `target`. All the predictors are called `predictors`. Run a Linear Regression using [scikit learn](https://scikit-learn.org/stable/modules/generated/sklearn.linear_model.LinearRegression.html#sklearn.linear_model.LinearRegression) to try to explain conflict based on all the predictors. Then, find the predicted outcomes and recode them with the following heuristics:\n",
    "\n",
    "- 0 if prediction below or equal 0.5\n",
    "- 1 if prediction above 0.5\n",
    "\n",
    "Make a confusion matrix of your results. Do you have a good prediction model? Explain.\n",
    "\n",
    "**Important**: you should rewrite the `linreg` with the fitting model, and the `y_pred_linreg` with the predictions."
   ]
  },
  {
   "cell_type": "code",
   "execution_count": null,
   "id": "953e20f3",
   "metadata": {
    "deletable": false,
    "editable": false,
    "nbgrader": {
     "cell_type": "code",
     "checksum": "daed0e5c2b95f591c706e14dab5a7733",
     "grade": false,
     "grade_id": "cell-0a5b1891e0effc01",
     "locked": true,
     "schema_version": 3,
     "solution": false,
     "task": false
    }
   },
   "outputs": [],
   "source": [
    "## Creating the target variable and the predictors' matrix\n",
    "y = dat[target]\n",
    "X = dat[predictors]"
   ]
  },
  {
   "cell_type": "code",
   "execution_count": null,
   "id": "8abf6f96",
   "metadata": {
    "deletable": false,
    "nbgrader": {
     "cell_type": "code",
     "checksum": "702eb42688e9b6e0bece515920948ab2",
     "grade": false,
     "grade_id": "cell-ef386fd8186f0431",
     "locked": false,
     "schema_version": 3,
     "solution": true,
     "task": false
    }
   },
   "outputs": [],
   "source": [
    "# your code here\n",
    "raise NotImplementedError"
   ]
  },
  {
   "cell_type": "code",
   "execution_count": null,
   "id": "4a9e9d1b",
   "metadata": {
    "deletable": false,
    "editable": false,
    "nbgrader": {
     "cell_type": "code",
     "checksum": "9e103c350d9b66d44648ed0607c138af",
     "grade": true,
     "grade_id": "cell-11a7211754415b1f",
     "locked": true,
     "points": 1,
     "schema_version": 3,
     "solution": false,
     "task": false
    }
   },
   "outputs": [],
   "source": [
    "assert type(linreg) == LinearRegression\n",
    "assert y_pred_linreg[0] == 0\n"
   ]
  },
  {
   "cell_type": "markdown",
   "id": "a81cb672",
   "metadata": {
    "deletable": false,
    "nbgrader": {
     "cell_type": "markdown",
     "checksum": "5ff4c75527b6767e24a8ba15b5fa0a86",
     "grade": true,
     "grade_id": "cell-614973634f868f3b",
     "locked": false,
     "points": 0.5,
     "schema_version": 3,
     "solution": true,
     "task": false
    }
   },
   "source": [
    "YOUR ANSWER HERE"
   ]
  },
  {
   "cell_type": "markdown",
   "id": "9d2c6952",
   "metadata": {
    "deletable": false,
    "editable": false,
    "nbgrader": {
     "cell_type": "markdown",
     "checksum": "0696539261af46ef131f50c2476fcef5",
     "grade": false,
     "grade_id": "cell-b3208b989cc774cde",
     "locked": true,
     "schema_version": 3,
     "solution": false,
     "task": false
    }
   },
   "source": [
    "# 5. Logistic Regression\n",
    "\n",
    "Fit the same model using a logistic regression. Use the parameter `solver = 'liblinear'`. Make a confusion matrix of your results. Do you have a good prediction model? Explain.\n",
    "\n",
    "**Important**: you should rewrite the `logreg` with the fitting model, and the `y_pred_logreg` with the predictions."
   ]
  },
  {
   "cell_type": "code",
   "execution_count": null,
   "id": "d2bd4623",
   "metadata": {
    "deletable": false,
    "nbgrader": {
     "cell_type": "code",
     "checksum": "eb5a238c17e6382c189f45d27baafcf8",
     "grade": false,
     "grade_id": "cell-725c289ed0019e12",
     "locked": false,
     "schema_version": 3,
     "solution": true,
     "task": false
    }
   },
   "outputs": [],
   "source": [
    "# your code here\n",
    "raise NotImplementedError"
   ]
  },
  {
   "cell_type": "code",
   "execution_count": null,
   "id": "277a7773",
   "metadata": {
    "deletable": false,
    "editable": false,
    "nbgrader": {
     "cell_type": "code",
     "checksum": "452e5223fe07900a2454b6544471185e",
     "grade": true,
     "grade_id": "cell-3bc391ae62c7f1db",
     "locked": true,
     "points": 1,
     "schema_version": 3,
     "solution": false,
     "task": false
    }
   },
   "outputs": [],
   "source": [
    "assert type(logreg) == LogisticRegression\n",
    "assert y_pred_logreg[0] == 0\n"
   ]
  },
  {
   "cell_type": "markdown",
   "id": "3d4fc81a",
   "metadata": {
    "deletable": false,
    "nbgrader": {
     "cell_type": "markdown",
     "checksum": "661e41008ecbee7e41799f8d46a39ee1",
     "grade": true,
     "grade_id": "cell-370da1ad5fc3bc51",
     "locked": false,
     "points": 0.5,
     "schema_version": 3,
     "solution": true,
     "task": false
    }
   },
   "source": [
    "YOUR ANSWER HERE"
   ]
  },
  {
   "cell_type": "markdown",
   "id": "e22fbb19",
   "metadata": {
    "deletable": false,
    "editable": false,
    "nbgrader": {
     "cell_type": "markdown",
     "checksum": "c18c959ee19021d92e067e68c309cbde",
     "grade": false,
     "grade_id": "cell-599dd055b7c27363",
     "locked": true,
     "schema_version": 3,
     "solution": false,
     "task": false
    }
   },
   "source": [
    "# 6. Linear Discriminant Analysis\n",
    "\n",
    "Fit the same model using a linear discriminant analysis. Make a confusion matrix of your results. Do you have a good prediction model? Explain.\n",
    "\n",
    "**Important**: you should rewrite the `lda` with the fitting model, and the `y_pred_lda` with the predictions."
   ]
  },
  {
   "cell_type": "code",
   "execution_count": null,
   "id": "9c93fe79",
   "metadata": {
    "deletable": false,
    "nbgrader": {
     "cell_type": "code",
     "checksum": "0026f8f96584c6fd7592241e5064f876",
     "grade": false,
     "grade_id": "cell-899c718edc78d014",
     "locked": false,
     "schema_version": 3,
     "solution": true,
     "task": false
    }
   },
   "outputs": [],
   "source": [
    "# your code here\n",
    "raise NotImplementedError"
   ]
  },
  {
   "cell_type": "code",
   "execution_count": null,
   "id": "4eaa2c17",
   "metadata": {
    "deletable": false,
    "editable": false,
    "nbgrader": {
     "cell_type": "code",
     "checksum": "f280831aaf6713a13e73404aed4d2b8f",
     "grade": true,
     "grade_id": "cell-50ab2a652d5ff773",
     "locked": true,
     "points": 1,
     "schema_version": 3,
     "solution": false,
     "task": false
    }
   },
   "outputs": [],
   "source": [
    "assert type(lda) == LinearDiscriminantAnalysis\n",
    "assert y_pred_lda[140] != y[140]\n"
   ]
  },
  {
   "cell_type": "markdown",
   "id": "9dcd5163",
   "metadata": {
    "deletable": false,
    "nbgrader": {
     "cell_type": "markdown",
     "checksum": "20befa18987c7670ea92545d42d663fd",
     "grade": true,
     "grade_id": "cell-f7dbdaf67381d463",
     "locked": false,
     "points": 0.5,
     "schema_version": 3,
     "solution": true,
     "task": false
    }
   },
   "source": [
    "YOUR ANSWER HERE"
   ]
  },
  {
   "cell_type": "markdown",
   "id": "ebd290a3",
   "metadata": {
    "deletable": false,
    "editable": false,
    "nbgrader": {
     "cell_type": "markdown",
     "checksum": "012bf61d39fa183b926cdf513b081bd3",
     "grade": false,
     "grade_id": "cell-8f2a259263ce4ea6",
     "locked": true,
     "schema_version": 3,
     "solution": false,
     "task": false
    }
   },
   "source": [
    "# 7. Quadratic Discriminant Analysis\n",
    "\n",
    "Fit the same model using a linear discriminant analysis. Make a confusion matrix of your results. Do you have a good prediction model? Explain. (Special attention to the warning message. What does that mean? Check online!)\n",
    "\n",
    "**Important**: you should rewrite the `qda` with the fitting model, and the `y_pred_qda` with the predictions."
   ]
  },
  {
   "cell_type": "code",
   "execution_count": null,
   "id": "a126ac65",
   "metadata": {
    "deletable": false,
    "nbgrader": {
     "cell_type": "code",
     "checksum": "17c710ddd973c91d8c7fcd1d3121a293",
     "grade": false,
     "grade_id": "cell-98e429995cd94630",
     "locked": false,
     "schema_version": 3,
     "solution": true,
     "task": false
    }
   },
   "outputs": [],
   "source": [
    "# your code here\n",
    "raise NotImplementedError"
   ]
  },
  {
   "cell_type": "code",
   "execution_count": null,
   "id": "76dac123",
   "metadata": {
    "deletable": false,
    "editable": false,
    "nbgrader": {
     "cell_type": "code",
     "checksum": "39aedd295ab76f0889124bc4fae7dd54",
     "grade": true,
     "grade_id": "cell-ddbf9b4e13e32f29",
     "locked": true,
     "points": 1,
     "schema_version": 3,
     "solution": false,
     "task": false
    }
   },
   "outputs": [],
   "source": [
    "assert type(qda) == QuadraticDiscriminantAnalysis\n",
    "assert y_pred_qda[0] == 0\n"
   ]
  },
  {
   "cell_type": "markdown",
   "id": "9419c9c7",
   "metadata": {
    "deletable": false,
    "nbgrader": {
     "cell_type": "markdown",
     "checksum": "b0ed8fae855a3985afe9175a86c0740b",
     "grade": true,
     "grade_id": "cell-499e24ee2af8b004",
     "locked": false,
     "points": 0.5,
     "schema_version": 3,
     "solution": true,
     "task": false
    }
   },
   "source": [
    "YOUR ANSWER HERE"
   ]
  },
  {
   "cell_type": "markdown",
   "id": "dc3daf63",
   "metadata": {
    "deletable": false,
    "editable": false,
    "nbgrader": {
     "cell_type": "markdown",
     "checksum": "fe8a5a6464d62544ca9aaa931de0018f",
     "grade": false,
     "grade_id": "cell-e3e66e731bda3c71",
     "locked": true,
     "schema_version": 3,
     "solution": false,
     "task": false
    }
   },
   "source": [
    "# 8. Naïve Bayes Classifier\n",
    "\n",
    "Fit the same model using the Gaussian Naïve Bayes classifier. Make a confusion matrix of your results. Do you have a good prediction model? Explain.\n",
    "\n",
    "**Important**: you should rewrite the `nbayes` with the fitting model, and the `y_pred_naiveb` with the predictions."
   ]
  },
  {
   "cell_type": "code",
   "execution_count": null,
   "id": "eaceac4b",
   "metadata": {
    "deletable": false,
    "nbgrader": {
     "cell_type": "code",
     "checksum": "503161280a6b7cee0e2d3ea1c6ad0aa1",
     "grade": false,
     "grade_id": "cell-4e66290f198526b8",
     "locked": false,
     "schema_version": 3,
     "solution": true,
     "task": false
    }
   },
   "outputs": [],
   "source": [
    "# your code here\n",
    "raise NotImplementedError"
   ]
  },
  {
   "cell_type": "code",
   "execution_count": null,
   "id": "adaa3776",
   "metadata": {
    "deletable": false,
    "editable": false,
    "nbgrader": {
     "cell_type": "code",
     "checksum": "37d0a790e53d1c4fab3d0f40e88f9441",
     "grade": true,
     "grade_id": "cell-68d285c8286c85cd",
     "locked": true,
     "points": 1,
     "schema_version": 3,
     "solution": false,
     "task": false
    }
   },
   "outputs": [],
   "source": [
    "assert type(nbayes) == GaussianNB\n",
    "assert y_pred_naiveb[0] == 0\n"
   ]
  },
  {
   "cell_type": "markdown",
   "id": "632f2e3e",
   "metadata": {
    "deletable": false,
    "nbgrader": {
     "cell_type": "markdown",
     "checksum": "b65355a21e1c961f8241b0aa028abb6f",
     "grade": true,
     "grade_id": "cell-9448f00053041451",
     "locked": false,
     "points": 0.5,
     "schema_version": 3,
     "solution": true,
     "task": false
    }
   },
   "source": [
    "YOUR ANSWER HERE"
   ]
  }
 ],
 "metadata": {
  "kernelspec": {
   "display_name": "Python 3 (ipykernel)",
   "language": "python",
   "name": "python3"
  },
  "language_info": {
   "codemirror_mode": {
    "name": "ipython",
    "version": 3
   },
   "file_extension": ".py",
   "mimetype": "text/x-python",
   "name": "python",
   "nbconvert_exporter": "python",
   "pygments_lexer": "ipython3",
   "version": "3.9.5"
  }
 },
 "nbformat": 4,
 "nbformat_minor": 5
}
