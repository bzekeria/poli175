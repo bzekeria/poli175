{
 "cells": [
  {
   "cell_type": "markdown",
   "id": "17f7091f",
   "metadata": {
    "deletable": false,
    "editable": false,
    "nbgrader": {
     "cell_type": "markdown",
     "checksum": "2a68223dccdfe4896217881f0f515d2d",
     "grade": false,
     "grade_id": "cell-d4fda479087474f6",
     "locked": true,
     "schema_version": 3,
     "solution": false,
     "task": false
    }
   },
   "source": [
    "# Problem Set 01\n",
    "\n",
    "## POLI 175 - Machine Learning for Social Scientists\n",
    "\n",
    "In this problem set we will play with the Education Expenditure dataset. You can find it in [here](https://github.com/umbertomig/POLI175public/blob/main/data/educexp.csv).\n",
    "\n",
    "Here is a quick description of the dataset:\n",
    "\n",
    "| **Variable** | **Meaning**                                 |\n",
    "|--------------|---------------------------------------------|\n",
    "| education    | Per-capita education expenditures, dollars. |\n",
    "| income       | Per-capita income, dollars.                 |\n",
    "| young        | Proportion under 18, per 1000.              |\n",
    "| urban        | Proportion urban, per 1000.                 |\n",
    "| states       | US State                                    |"
   ]
  },
  {
   "cell_type": "markdown",
   "id": "7690c94d",
   "metadata": {
    "deletable": false,
    "editable": false,
    "nbgrader": {
     "cell_type": "markdown",
     "checksum": "50d9c563e58f817677b70102155c1d8e",
     "grade": false,
     "grade_id": "cell-b9dd9574744d013f",
     "locked": true,
     "schema_version": 3,
     "solution": false,
     "task": false
    }
   },
   "source": [
    "# 1. Loading Packages\n",
    "\n",
    "Load:\n",
    "\n",
    "- pandas\n",
    "- numpy\n",
    "- matplotlib.pyplot\n",
    "- seaborn\n",
    "- statsmodels (ols and anova_lm modules)\n",
    "\n",
    "Alias them in the standard way."
   ]
  },
  {
   "cell_type": "code",
   "execution_count": null,
   "id": "88d97f4f",
   "metadata": {
    "deletable": false,
    "nbgrader": {
     "cell_type": "code",
     "checksum": "41b7338c44fb7dd51af48b651a3bfcae",
     "grade": true,
     "grade_id": "cell-ad2435cff0a8cfd9",
     "locked": false,
     "points": 1,
     "schema_version": 3,
     "solution": true,
     "task": false
    }
   },
   "outputs": [],
   "source": [
    "# your code here\n",
    "raise NotImplementedError"
   ]
  },
  {
   "cell_type": "markdown",
   "id": "41cab880",
   "metadata": {
    "deletable": false,
    "editable": false,
    "nbgrader": {
     "cell_type": "markdown",
     "checksum": "1775aeebda2521a7bec78e6b6a226856",
     "grade": false,
     "grade_id": "cell-d6a2587f476dea36",
     "locked": true,
     "schema_version": 3,
     "solution": false,
     "task": false
    }
   },
   "source": [
    "# 2. Loading Data\n",
    "\n",
    "Load the dataset and save it in an object called `dat`."
   ]
  },
  {
   "cell_type": "code",
   "execution_count": null,
   "id": "949fdffd",
   "metadata": {
    "deletable": false,
    "nbgrader": {
     "cell_type": "code",
     "checksum": "257195a57f29556d31196e6c45e3c1e1",
     "grade": true,
     "grade_id": "cell-c8dc3385e93dd279",
     "locked": false,
     "points": 1,
     "schema_version": 3,
     "solution": true,
     "task": false
    }
   },
   "outputs": [],
   "source": [
    "# your code here\n",
    "raise NotImplementedError"
   ]
  },
  {
   "cell_type": "markdown",
   "id": "599b776f",
   "metadata": {
    "deletable": false,
    "editable": false,
    "nbgrader": {
     "cell_type": "markdown",
     "checksum": "985ef3fa9eee19151606a241e494b9e6",
     "grade": false,
     "grade_id": "cell-09d3dd06d70d6fca",
     "locked": true,
     "schema_version": 3,
     "solution": false,
     "task": false
    }
   },
   "source": [
    "# 3. Check the head of the dataset"
   ]
  },
  {
   "cell_type": "code",
   "execution_count": null,
   "id": "cf319bca",
   "metadata": {
    "deletable": false,
    "nbgrader": {
     "cell_type": "code",
     "checksum": "025b5769571a270835f396ca6fbcd59a",
     "grade": true,
     "grade_id": "cell-268b3ea3d3aef5ed",
     "locked": false,
     "points": 1,
     "schema_version": 3,
     "solution": true,
     "task": false
    }
   },
   "outputs": [],
   "source": [
    "# your code here\n",
    "raise NotImplementedError"
   ]
  },
  {
   "cell_type": "markdown",
   "id": "6d230063",
   "metadata": {
    "deletable": false,
    "editable": false,
    "nbgrader": {
     "cell_type": "markdown",
     "checksum": "4d40381696bf1b43709bdfc7ea66dc8e",
     "grade": false,
     "grade_id": "cell-4a35a4e2d5505309",
     "locked": true,
     "schema_version": 3,
     "solution": false,
     "task": false
    }
   },
   "source": [
    "# 4. Describe the dataset\n",
    "\n",
    "Use the function `describe`."
   ]
  },
  {
   "cell_type": "code",
   "execution_count": null,
   "id": "6e9d29e4",
   "metadata": {
    "deletable": false,
    "nbgrader": {
     "cell_type": "code",
     "checksum": "bad913ca2a8a0bb1a5e72f40e91890e8",
     "grade": true,
     "grade_id": "cell-9389787d070e5210",
     "locked": false,
     "points": 1,
     "schema_version": 3,
     "solution": true,
     "task": false
    }
   },
   "outputs": [],
   "source": [
    "# your code here\n",
    "raise NotImplementedError"
   ]
  },
  {
   "cell_type": "markdown",
   "id": "c1cf8855",
   "metadata": {
    "deletable": false,
    "editable": false,
    "nbgrader": {
     "cell_type": "markdown",
     "checksum": "c6795628fe5f64aaade366e7aca80551",
     "grade": false,
     "grade_id": "cell-10e41c1a15944020",
     "locked": true,
     "schema_version": 3,
     "solution": false,
     "task": false
    }
   },
   "source": [
    "# 5. Creating a variable\n",
    "\n",
    "Create a binary variable that is 1 when the states are CA, OR, and WA; and zero otherwise. Call it `west` and then check the `tail` to see if it works."
   ]
  },
  {
   "cell_type": "code",
   "execution_count": null,
   "id": "0761bad5",
   "metadata": {
    "deletable": false,
    "nbgrader": {
     "cell_type": "code",
     "checksum": "7b10e29d52ecd862635da710bae03dd9",
     "grade": true,
     "grade_id": "cell-abc44736e93c6456",
     "locked": false,
     "points": 1,
     "schema_version": 3,
     "solution": true,
     "task": false
    }
   },
   "outputs": [],
   "source": [
    "# your code here\n",
    "raise NotImplementedError"
   ]
  },
  {
   "cell_type": "markdown",
   "id": "93db4867",
   "metadata": {
    "deletable": false,
    "editable": false,
    "nbgrader": {
     "cell_type": "markdown",
     "checksum": "02416a7d8a3afc36e6a9c451142ceecd",
     "grade": false,
     "grade_id": "cell-ba635656b4606c12",
     "locked": true,
     "schema_version": 3,
     "solution": false,
     "task": false
    }
   },
   "source": [
    "# 6. Transforming variables\n",
    "\n",
    "Create a variable that logs the education expenditure. Call it `education_log`. Do the same thing for `income` and `young`, and `urban`, one by one. Add `_log` to its names. Check the `head` to see if it worked."
   ]
  },
  {
   "cell_type": "code",
   "execution_count": null,
   "id": "4a437bd6",
   "metadata": {
    "deletable": false,
    "nbgrader": {
     "cell_type": "code",
     "checksum": "eb9611caa6b7837b9bfb535fdee42cdb",
     "grade": true,
     "grade_id": "cell-cb220fa421d78bde",
     "locked": false,
     "points": 1,
     "schema_version": 3,
     "solution": true,
     "task": false
    }
   },
   "outputs": [],
   "source": [
    "# your code here\n",
    "raise NotImplementedError"
   ]
  },
  {
   "cell_type": "markdown",
   "id": "0746880e",
   "metadata": {
    "deletable": false,
    "editable": false,
    "nbgrader": {
     "cell_type": "markdown",
     "checksum": "f4cb7bf2b6cc51afa9954650e9515758",
     "grade": false,
     "grade_id": "cell-a4fa57731501961b",
     "locked": true,
     "schema_version": 3,
     "solution": false,
     "task": false
    }
   },
   "source": [
    "# 7. Scatterplots\n",
    "\n",
    "Create a scatterplot of `education` (y-axis) x `income` (x-axis). Do the same graphs for the logged variables. Any trends worth noting?"
   ]
  },
  {
   "cell_type": "code",
   "execution_count": null,
   "id": "86c32230",
   "metadata": {
    "deletable": false,
    "nbgrader": {
     "cell_type": "code",
     "checksum": "9ab50af753b25aabaf34283eed1a5f91",
     "grade": true,
     "grade_id": "cell-1cde3cfd6e7bccf3",
     "locked": false,
     "points": 1,
     "schema_version": 3,
     "solution": true,
     "task": false
    }
   },
   "outputs": [],
   "source": [
    "# your code here\n",
    "raise NotImplementedError"
   ]
  },
  {
   "cell_type": "markdown",
   "id": "cb35853c",
   "metadata": {
    "deletable": false,
    "editable": false,
    "nbgrader": {
     "cell_type": "markdown",
     "checksum": "861d5839e2196d687572f9d9fa264676",
     "grade": false,
     "grade_id": "cell-85959f7e2ddaa438",
     "locked": true,
     "schema_version": 3,
     "solution": false,
     "task": false
    }
   },
   "source": [
    "# 8. Pairs-plot\n",
    "\n",
    "Make a `pairplot` of `education`, `income`, `young`, and `urban`. Any trends? How about the logged variables? Any trends there?"
   ]
  },
  {
   "cell_type": "code",
   "execution_count": null,
   "id": "5f2b4e51",
   "metadata": {
    "deletable": false,
    "nbgrader": {
     "cell_type": "code",
     "checksum": "dfed839a51e17eef81b810aa2987db5c",
     "grade": true,
     "grade_id": "cell-1083343a793ea98a",
     "locked": false,
     "points": 1,
     "schema_version": 3,
     "solution": true,
     "task": false
    }
   },
   "outputs": [],
   "source": [
    "# your code here\n",
    "raise NotImplementedError"
   ]
  },
  {
   "cell_type": "markdown",
   "id": "54e20209",
   "metadata": {
    "deletable": false,
    "editable": false,
    "nbgrader": {
     "cell_type": "markdown",
     "checksum": "9531b53c7d94483cba59f7666b55fab0",
     "grade": false,
     "grade_id": "cell-3068bfecb20bea29",
     "locked": true,
     "schema_version": 3,
     "solution": false,
     "task": false
    }
   },
   "source": [
    "# 9. Plot with trend line\n",
    "\n",
    "Plot a scatterplot with trend line for the `education_log` expenduture explained by `income_log`."
   ]
  },
  {
   "cell_type": "code",
   "execution_count": null,
   "id": "21515161",
   "metadata": {
    "deletable": false,
    "nbgrader": {
     "cell_type": "code",
     "checksum": "ce0d4e77a42572712b0dc3765664c208",
     "grade": true,
     "grade_id": "cell-3b7398bfb1162f44",
     "locked": false,
     "points": 1,
     "schema_version": 3,
     "solution": true,
     "task": false
    }
   },
   "outputs": [],
   "source": [
    "# your code here\n",
    "raise NotImplementedError"
   ]
  },
  {
   "cell_type": "markdown",
   "id": "7b5d49c6",
   "metadata": {
    "deletable": false,
    "editable": false,
    "nbgrader": {
     "cell_type": "markdown",
     "checksum": "cd7889d203a0c16617e4c4d4bb5d5120",
     "grade": false,
     "grade_id": "cell-7b4741d9123739ad",
     "locked": true,
     "schema_version": 3,
     "solution": false,
     "task": false
    }
   },
   "source": [
    "# 10. Regression\n",
    "\n",
    "Run a regression using `income_log`, `young_log`, and `urban_log` to explain the `education_log` expenditure. Then run the same regression adding the `west` variable. Which model you think is best?"
   ]
  },
  {
   "cell_type": "code",
   "execution_count": null,
   "id": "f3d279f0",
   "metadata": {
    "deletable": false,
    "nbgrader": {
     "cell_type": "code",
     "checksum": "74c4681ed439ab2398737abf9d05ba09",
     "grade": true,
     "grade_id": "cell-a3b2be37144807e6",
     "locked": false,
     "points": 1,
     "schema_version": 3,
     "solution": true,
     "task": false
    }
   },
   "outputs": [],
   "source": [
    "# your code here\n",
    "raise NotImplementedError"
   ]
  },
  {
   "cell_type": "markdown",
   "id": "535115e2",
   "metadata": {
    "deletable": false,
    "editable": false,
    "nbgrader": {
     "cell_type": "markdown",
     "checksum": "5900f66351935dc238ccd1229a70ecaa",
     "grade": false,
     "grade_id": "cell-ff11e50c739ccfc2",
     "locked": true,
     "schema_version": 3,
     "solution": false,
     "task": false
    }
   },
   "source": [
    "# That's all folks!"
   ]
  }
 ],
 "metadata": {
  "kernelspec": {
   "display_name": "Python 3 (ipykernel)",
   "language": "python",
   "name": "python3"
  },
  "language_info": {
   "codemirror_mode": {
    "name": "ipython",
    "version": 3
   },
   "file_extension": ".py",
   "mimetype": "text/x-python",
   "name": "python",
   "nbconvert_exporter": "python",
   "pygments_lexer": "ipython3",
   "version": "3.9.5"
  }
 },
 "nbformat": 4,
 "nbformat_minor": 5
}
