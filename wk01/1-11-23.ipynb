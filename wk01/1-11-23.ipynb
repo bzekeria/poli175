{
 "cells": [
  {
   "cell_type": "markdown",
   "id": "eaf676dc",
   "metadata": {},
   "source": [
    "# Introduction to Statistical Learning"
   ]
  },
  {
   "cell_type": "markdown",
   "id": "8c0ba7b0",
   "metadata": {},
   "source": [
    "## Estimation of $f$\n",
    "- $x$: matrix of predictors\n",
    "- $Y$: response variable\n",
    "- $f()$: unknown function that connects x with y\n",
    "- $\\epsilon$: error term\n",
    "\n",
    "$$Y = f(X) + \\epsilon$$\n",
    "\n",
    "*Goal: Find the best $f$ for the data*"
   ]
  },
  {
   "cell_type": "markdown",
   "id": "91076932",
   "metadata": {},
   "source": [
    "### Why estimate $f$?\n",
    "- **Prediction**\n",
    "    - $\\hat{Y}= f(\\hat{X})$\n",
    "    - Reducible: improve $f$\n",
    "    - Non-reducible: measurement error\n",
    "    - Ex: Predict GDP of a town?\n",
    "- **Inference** \n",
    "    - How $Y$ is related with a set of $X$s\n",
    "    - Ex: How does investment in radio relate to investment in newspapers?"
   ]
  },
  {
   "cell_type": "markdown",
   "id": "b4dd67ac",
   "metadata": {},
   "source": [
    "### How do we estimate $f$?\n",
    "- Teach the computer $\\hat{f}$\n",
    "- **Parametric**\n",
    "    - Make an assumption about the *functional form* (e.g., linear)\n",
    "    - *Train* the model using the data\n",
    "    - Easy to estimate\n",
    "    - May *overfit* our estimates\n",
    "- **Non-parametric**\n",
    "    - Doesn't assume\n",
    "    - Seeks an estimate f that gets as close to the data\n",
    "    - Overfit\n",
    "    \n",
    "---\n",
    "**Overfitting**: estimation does well in the training set but not applied to other observations in the real-world"
   ]
  },
  {
   "cell_type": "markdown",
   "id": "9c486514",
   "metadata": {},
   "source": [
    "### Tradeoffs\n",
    "- Flexibility vs interpretability\n",
    "- Inferense &rarr; restrictive model\n",
    "- Prediction &rarr; flexible model as it captures more nuanced relationships\n",
    "- Ex: Tesla's self-driving cars\n",
    "    - Predict: when to turn\n",
    "    - Interpretability: why do ppl complain about self-driving Teslas?"
   ]
  },
  {
   "cell_type": "markdown",
   "id": "c8d73825",
   "metadata": {},
   "source": [
    "### Approaches\n",
    "- Supervised: for each observation $i$ we have to target $Y_{i}$\n",
    "    - Semi-Supervised: we know a few $Y_{i}$ but we want to predict the $Y_{i}$s for the majority of the data\n",
    "- Unsupervised: no target $Y_{i}$, only $X_{i}$s"
   ]
  },
  {
   "cell_type": "markdown",
   "id": "50b293e8",
   "metadata": {},
   "source": [
    "## Model Accuracy\n",
    "- *No free lunch in statistics*\n",
    "- Mean Squared Error (MSE)\n",
    "    - $MSE = \\frac{1}{n} \\Sigma_{i=1}^n({y}-\\hat{y})^2$\n",
    "    - Difference between the true and predicted value squared\n",
    "    - Can compute in the *training* data though we want to know how it performs in the *test* data "
   ]
  },
  {
   "cell_type": "code",
   "execution_count": null,
   "id": "b64e257c",
   "metadata": {},
   "outputs": [],
   "source": []
  }
 ],
 "metadata": {
  "kernelspec": {
   "display_name": "Python 3",
   "language": "python",
   "name": "python3"
  },
  "language_info": {
   "codemirror_mode": {
    "name": "ipython",
    "version": 3
   },
   "file_extension": ".py",
   "mimetype": "text/x-python",
   "name": "python",
   "nbconvert_exporter": "python",
   "pygments_lexer": "ipython3",
   "version": "3.8.8"
  },
  "varInspector": {
   "cols": {
    "lenName": 16,
    "lenType": 16,
    "lenVar": 40
   },
   "kernels_config": {
    "python": {
     "delete_cmd_postfix": "",
     "delete_cmd_prefix": "del ",
     "library": "var_list.py",
     "varRefreshCmd": "print(var_dic_list())"
    },
    "r": {
     "delete_cmd_postfix": ") ",
     "delete_cmd_prefix": "rm(",
     "library": "var_list.r",
     "varRefreshCmd": "cat(var_dic_list()) "
    }
   },
   "types_to_exclude": [
    "module",
    "function",
    "builtin_function_or_method",
    "instance",
    "_Feature"
   ],
   "window_display": false
  }
 },
 "nbformat": 4,
 "nbformat_minor": 5
}
