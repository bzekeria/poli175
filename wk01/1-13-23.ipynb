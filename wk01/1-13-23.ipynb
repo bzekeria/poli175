{
 "cells": [
  {
   "cell_type": "markdown",
   "metadata": {
    "slideshow": {
     "slide_type": "slide"
    }
   },
   "source": [
    "# POLI 175 - Machine Learning for Social Sciences\n",
    "\n",
    "## Python Refresh I\n",
    "\n",
    "---"
   ]
  },
  {
   "cell_type": "markdown",
   "metadata": {
    "slideshow": {
     "slide_type": "slide"
    }
   },
   "source": [
    "# Data Science with Pandas"
   ]
  },
  {
   "cell_type": "markdown",
   "metadata": {
    "slideshow": {
     "slide_type": "fragment"
    }
   },
   "source": [
    "## Load Pandas\n",
    "\n",
    "Load pandas is very easy. Provided that the package is installed (if not, check [here](https://pandas.pydata.org/pandas-docs/stable/getting_started/install.html) how to install it), type:"
   ]
  },
  {
   "cell_type": "code",
   "execution_count": 1,
   "metadata": {
    "slideshow": {
     "slide_type": "fragment"
    }
   },
   "outputs": [],
   "source": [
    "import pandas as pd"
   ]
  },
  {
   "cell_type": "markdown",
   "metadata": {
    "slideshow": {
     "slide_type": "slide"
    }
   },
   "source": [
    "## Load Data into Python\n",
    "\n",
    "To start having fun, we need to load data into Python. We can do this in three ways: from a local file, from the internet, and from data typed in the keyboard.\n",
    "\n",
    "### From Locale\n",
    "\n",
    "First, we need to find the working directory. To do that, we need to use the library `os`. To do this you need to:\n",
    "\n",
    "```\n",
    "import os\n",
    "print(os.getcwd())\n",
    "```"
   ]
  },
  {
   "cell_type": "code",
   "execution_count": 2,
   "metadata": {},
   "outputs": [
    {
     "name": "stdout",
     "output_type": "stream",
     "text": [
      "/Users/baraazekeria/UCSD/POLI175/poli175/wk01\n"
     ]
    }
   ],
   "source": [
    "import os\n",
    "print(os.getcwd())"
   ]
  },
  {
   "cell_type": "markdown",
   "metadata": {
    "slideshow": {
     "slide_type": "slide"
    }
   },
   "source": [
    "## Load Data into Python\n",
    "\n",
    "Then, you need to put the file in the folder. If you need to change the folder, use the function:\n",
    "\n",
    "```\n",
    "os.chdir(\"new_path_here\")\n",
    "```\n",
    "\n",
    "Now that we know the folder, and the file is there, we can load it:\n",
    "\n",
    "```\n",
    "dat = pd.read_csv('file_name_here.csv')\n",
    "```"
   ]
  },
  {
   "cell_type": "markdown",
   "metadata": {
    "slideshow": {
     "slide_type": "slide"
    }
   },
   "source": [
    "### Load Dataset on the internet\n",
    "\n",
    "The way we will load here is from the internet. \n",
    "\n",
    "For example, suppose the following dataset: https://raw.githubusercontent.com/umbertomig/qtm150/master/datasets/PErisk.csv.\n",
    "\n",
    "To open, we use the `read_csv` command as we did with the locale version."
   ]
  },
  {
   "cell_type": "code",
   "execution_count": 3,
   "metadata": {
    "slideshow": {
     "slide_type": "fragment"
    }
   },
   "outputs": [
    {
     "data": {
      "text/html": [
       "<div>\n",
       "<style scoped>\n",
       "    .dataframe tbody tr th:only-of-type {\n",
       "        vertical-align: middle;\n",
       "    }\n",
       "\n",
       "    .dataframe tbody tr th {\n",
       "        vertical-align: top;\n",
       "    }\n",
       "\n",
       "    .dataframe thead th {\n",
       "        text-align: right;\n",
       "    }\n",
       "</style>\n",
       "<table border=\"1\" class=\"dataframe\">\n",
       "  <thead>\n",
       "    <tr style=\"text-align: right;\">\n",
       "      <th></th>\n",
       "      <th>country</th>\n",
       "      <th>courts</th>\n",
       "      <th>barb2</th>\n",
       "      <th>prsexp2</th>\n",
       "      <th>prscorr2</th>\n",
       "      <th>gdpw2</th>\n",
       "    </tr>\n",
       "  </thead>\n",
       "  <tbody>\n",
       "    <tr>\n",
       "      <th>0</th>\n",
       "      <td>Argentina</td>\n",
       "      <td>0</td>\n",
       "      <td>-0.720775</td>\n",
       "      <td>1</td>\n",
       "      <td>3</td>\n",
       "      <td>9.690170</td>\n",
       "    </tr>\n",
       "    <tr>\n",
       "      <th>1</th>\n",
       "      <td>Australia</td>\n",
       "      <td>1</td>\n",
       "      <td>-6.907755</td>\n",
       "      <td>5</td>\n",
       "      <td>4</td>\n",
       "      <td>10.304840</td>\n",
       "    </tr>\n",
       "    <tr>\n",
       "      <th>2</th>\n",
       "      <td>Austria</td>\n",
       "      <td>1</td>\n",
       "      <td>-4.910337</td>\n",
       "      <td>5</td>\n",
       "      <td>4</td>\n",
       "      <td>10.100940</td>\n",
       "    </tr>\n",
       "    <tr>\n",
       "      <th>3</th>\n",
       "      <td>Bangladesh</td>\n",
       "      <td>0</td>\n",
       "      <td>0.775975</td>\n",
       "      <td>1</td>\n",
       "      <td>0</td>\n",
       "      <td>8.379768</td>\n",
       "    </tr>\n",
       "    <tr>\n",
       "      <th>4</th>\n",
       "      <td>Belgium</td>\n",
       "      <td>1</td>\n",
       "      <td>-4.617344</td>\n",
       "      <td>5</td>\n",
       "      <td>4</td>\n",
       "      <td>10.250120</td>\n",
       "    </tr>\n",
       "  </tbody>\n",
       "</table>\n",
       "</div>"
      ],
      "text/plain": [
       "      country  courts     barb2  prsexp2  prscorr2      gdpw2\n",
       "0   Argentina       0 -0.720775        1         3   9.690170\n",
       "1   Australia       1 -6.907755        5         4  10.304840\n",
       "2     Austria       1 -4.910337        5         4  10.100940\n",
       "3  Bangladesh       0  0.775975        1         0   8.379768\n",
       "4     Belgium       1 -4.617344        5         4  10.250120"
      ]
     },
     "execution_count": 3,
     "metadata": {},
     "output_type": "execute_result"
    }
   ],
   "source": [
    "dat = pd.read_csv(\"https://raw.githubusercontent.com/umbertomig/qtm150/master/datasets/PErisk.csv\")\n",
    "dat.head()"
   ]
  },
  {
   "cell_type": "markdown",
   "metadata": {
    "slideshow": {
     "slide_type": "slide"
    }
   },
   "source": [
    "### From typing in the keyboard\n",
    "\n",
    "We can also build a dataset from scratch.\n",
    "\n",
    "For example, we could build a simple dataset in the following way:\n",
    "\n",
    "```\n",
    "dat = pd.DataFrame({\n",
    "    \"v1\": ['d1', 'd2', 'd3'],\n",
    "    \"v2\": [1, 2, 3],\n",
    "    \"v3\": ['A', 'B', 'A'],\n",
    "    \"v4\": [2.0, 1.1, 2.2]})\n",
    "```\n",
    "\n",
    "And this works for small datasets, with the inconvenience of having to type."
   ]
  },
  {
   "cell_type": "markdown",
   "metadata": {
    "slideshow": {
     "slide_type": "slide"
    }
   },
   "source": [
    "## Dataset Information\n",
    "\n",
    "Suppose we have a pandas dataset called `dat`. To make it more realistic, use the following example:\n",
    "\n",
    "```\n",
    "# For me: PErisk\n",
    "dat = pd.read_csv('https://raw.githubusercontent.com/umbertomig/qtm150/master/datasets/PErisk.csv')\n",
    "\n",
    "# For you: tips\n",
    "dat2 = pd.read_csv('https://raw.githubusercontent.com/umbertomig/qtm151/main/datasets/tips.csv')\n",
    "```\n",
    "\n",
    "If you are having VPN issues, let me know."
   ]
  },
  {
   "cell_type": "code",
   "execution_count": null,
   "metadata": {
    "slideshow": {
     "slide_type": "fragment"
    }
   },
   "outputs": [],
   "source": [
    "# My code here"
   ]
  },
  {
   "cell_type": "markdown",
   "metadata": {
    "slideshow": {
     "slide_type": "slide"
    }
   },
   "source": [
    "### .info(.)\n",
    "\n",
    "This method prints the information about the content of a dataset.\n",
    "\n",
    "Syntax and Usage: `print(dat.info())`"
   ]
  },
  {
   "cell_type": "code",
   "execution_count": null,
   "metadata": {
    "slideshow": {
     "slide_type": "fragment"
    }
   },
   "outputs": [],
   "source": [
    "# My code here"
   ]
  },
  {
   "cell_type": "markdown",
   "metadata": {
    "slideshow": {
     "slide_type": "slide"
    }
   },
   "source": [
    "### .head(.)\n",
    "\n",
    "This method prints the first few observations of the dataset.\n",
    "\n",
    "Syntax and Usage: `print(dat.head())`"
   ]
  },
  {
   "cell_type": "code",
   "execution_count": null,
   "metadata": {
    "slideshow": {
     "slide_type": "fragment"
    }
   },
   "outputs": [],
   "source": [
    "# My code here"
   ]
  },
  {
   "cell_type": "markdown",
   "metadata": {
    "slideshow": {
     "slide_type": "slide"
    }
   },
   "source": [
    "### .shape\n",
    "\n",
    "This prints the number of rows and columns of a dataset.\n",
    "\n",
    "Syntax and Usage: `print(dat.shape)`\n",
    "\n",
    "Note: no parenthesis necessary."
   ]
  },
  {
   "cell_type": "code",
   "execution_count": null,
   "metadata": {
    "slideshow": {
     "slide_type": "fragment"
    }
   },
   "outputs": [],
   "source": [
    "# My code here"
   ]
  },
  {
   "cell_type": "markdown",
   "metadata": {
    "slideshow": {
     "slide_type": "slide"
    }
   },
   "source": [
    "### .describe(.)\n",
    "\n",
    "This method gives us a few summary statistics of the dataset.\n",
    "\n",
    "Syntax and Usage: `print(dat.describe())`"
   ]
  },
  {
   "cell_type": "code",
   "execution_count": null,
   "metadata": {
    "slideshow": {
     "slide_type": "fragment"
    }
   },
   "outputs": [],
   "source": [
    "# My code here"
   ]
  },
  {
   "cell_type": "markdown",
   "metadata": {
    "slideshow": {
     "slide_type": "slide"
    }
   },
   "source": [
    "### .values\n",
    "\n",
    "This prints the observations in the dataset.\n",
    "\n",
    "Syntax and Usage: `print(dat.values)`\n",
    "\n",
    "Note: no parenthesis necessary."
   ]
  },
  {
   "cell_type": "code",
   "execution_count": null,
   "metadata": {
    "slideshow": {
     "slide_type": "fragment"
    }
   },
   "outputs": [],
   "source": [
    "# My code here"
   ]
  },
  {
   "cell_type": "markdown",
   "metadata": {
    "slideshow": {
     "slide_type": "slide"
    }
   },
   "source": [
    "### .columns\n",
    "\n",
    "This prints the variables information of the dataset.\n",
    "\n",
    "Syntax and Usage: `print(dat.columns)`\n",
    "\n",
    "Note: no parenthesis necessary."
   ]
  },
  {
   "cell_type": "code",
   "execution_count": null,
   "metadata": {
    "slideshow": {
     "slide_type": "fragment"
    }
   },
   "outputs": [],
   "source": [
    "# My code here"
   ]
  },
  {
   "cell_type": "markdown",
   "metadata": {
    "slideshow": {
     "slide_type": "slide"
    }
   },
   "source": [
    "### .index\n",
    "\n",
    "This prints informations about the dataset rows.\n",
    "\n",
    "Syntax and Usage: `print(dat.index)`\n",
    "\n",
    "Note: no parenthesis necessary."
   ]
  },
  {
   "cell_type": "code",
   "execution_count": null,
   "metadata": {
    "slideshow": {
     "slide_type": "fragment"
    }
   },
   "outputs": [],
   "source": [
    "# My code here"
   ]
  },
  {
   "cell_type": "markdown",
   "metadata": {
    "slideshow": {
     "slide_type": "slide"
    }
   },
   "source": [
    "**Exercise**: Run the same examples for the dataset `dat2`"
   ]
  },
  {
   "cell_type": "code",
   "execution_count": null,
   "metadata": {
    "slideshow": {
     "slide_type": "fragment"
    }
   },
   "outputs": [],
   "source": [
    "## Your answers here!"
   ]
  },
  {
   "cell_type": "markdown",
   "metadata": {
    "slideshow": {
     "slide_type": "slide"
    }
   },
   "source": [
    "## Data Manipulation\n",
    "\n",
    "### Subsetting variables (columns)\n",
    "\n",
    "To subset variables the sintax is simple. When it is only one variable:\n",
    "\n",
    "```\n",
    "dat[\"var_name\"]\n",
    "```\n",
    "\n",
    "When it is two or more, you need to enclose them in a list:\n",
    "\n",
    "```\n",
    "dat[[\"var1\", \"var2\"]]\n",
    "```"
   ]
  },
  {
   "cell_type": "code",
   "execution_count": null,
   "metadata": {
    "slideshow": {
     "slide_type": "slide"
    }
   },
   "outputs": [],
   "source": [
    "# My code here"
   ]
  },
  {
   "cell_type": "markdown",
   "metadata": {
    "slideshow": {
     "slide_type": "slide"
    }
   },
   "source": [
    "### Subsetting cases (rows)\n",
    "\n",
    "Now, to work with cases, notice that pandas allows us to do vectorized operations. For instance:\n",
    "\n",
    "```\n",
    "dat[\"var_name\"] > some_number\n",
    "```\n",
    "\n",
    "Returns True, if the variable is greater than the number, and False otherwise. To subset the dataset, you need to:\n",
    "\n",
    "```\n",
    "dat[dat[\"var_name\"] > some_number]\n",
    "```"
   ]
  },
  {
   "cell_type": "markdown",
   "metadata": {
    "slideshow": {
     "slide_type": "slide"
    }
   },
   "source": [
    "### Subsetting cases (rows)\n",
    "\n",
    "For multiple comparisons, the syntax is also easy to use:\n",
    "\n",
    "```\n",
    "dat[ (dat[\"v1\"] == \"some_value\") & (dat[\"v2\"] == \"some_other_value\") ]\n",
    "```\n",
    "\n",
    "And if we want a command similar to `%in%` in R, we can use the `.isin(.)` method:\n",
    "\n",
    "```\n",
    "dat[ dat[\"v1\"].isin([\"some_value\", \"some_other_value\"]) ]\n",
    "```"
   ]
  },
  {
   "cell_type": "code",
   "execution_count": null,
   "metadata": {
    "slideshow": {
     "slide_type": "slide"
    }
   },
   "outputs": [],
   "source": [
    "# My code here"
   ]
  },
  {
   "cell_type": "markdown",
   "metadata": {
    "slideshow": {
     "slide_type": "slide"
    }
   },
   "source": [
    "**Exercise**: Filter the `tips` dataset (our `dat2`) by:\n",
    "\n",
    "1. Bills of more than 10 dollars\n",
    "2. Smokers\n",
    "3. Weekend\n",
    "\n",
    "Do each of these separately, then do all together."
   ]
  },
  {
   "cell_type": "code",
   "execution_count": null,
   "metadata": {
    "slideshow": {
     "slide_type": "fragment"
    }
   },
   "outputs": [],
   "source": [
    "## Your answers here!"
   ]
  },
  {
   "cell_type": "markdown",
   "metadata": {
    "slideshow": {
     "slide_type": "slide"
    }
   },
   "source": [
    "### Simple computations\n",
    "\n",
    "It is simple to create new variables from older ones.\n",
    "\n",
    "```\n",
    "# Summing two variables\n",
    "dat[\"my_new_var\"] = dat[\"my_old_var1\"] + dat[\"my_old_var2\"]\n",
    "\n",
    "# Multiplying by a constant\n",
    "dat[\"my_new_var\"] = dat[\"my_old_var1\"] * constant\n",
    "\n",
    "# Apply some numpy function (try to always use numpy functions, as pandas is based on numpy)\n",
    "import numpy as np\n",
    "dat[\"my_new_logged_var\"] = np.log(dat[\"my_old_var\"])\n",
    "```"
   ]
  },
  {
   "cell_type": "code",
   "execution_count": null,
   "metadata": {
    "scrolled": true,
    "slideshow": {
     "slide_type": "slide"
    }
   },
   "outputs": [],
   "source": [
    "# My code here"
   ]
  },
  {
   "cell_type": "markdown",
   "metadata": {
    "slideshow": {
     "slide_type": "slide"
    }
   },
   "source": [
    "**Exercise**: In the `tips` dataset, create the variable `prop_tip`, which is the proportion of the tip with relation to the total bill."
   ]
  },
  {
   "cell_type": "code",
   "execution_count": null,
   "metadata": {
    "slideshow": {
     "slide_type": "fragment"
    }
   },
   "outputs": [],
   "source": [
    "## Your answers here!"
   ]
  },
  {
   "cell_type": "markdown",
   "metadata": {
    "slideshow": {
     "slide_type": "slide"
    }
   },
   "source": [
    "## Statistics\n",
    "\n",
    "We can easily compute statistics from the data. Here are a few methods that we have available:\n",
    "\n",
    "| Method           | Description                  |\n",
    "|------------------|------------------------------|\n",
    "| `.median()`      | Median                       |\n",
    "| `.mean()`        | Mean                         |\n",
    "| `.min()`         | Minimum                      |\n",
    "| `.max()`         | Maximum                      |\n",
    "| `.var()`         | Variance                     |\n",
    "| `.std()`         | Standard Deviation           |\n",
    "| `.sum()`         | Sum values                   |\n",
    "| `.mode()`        | More frequent values         |\n",
    "| `.quantile(val)` | Quantile value (btw 0 and 1) |"
   ]
  },
  {
   "cell_type": "markdown",
   "metadata": {
    "slideshow": {
     "slide_type": "slide"
    }
   },
   "source": [
    "## Statistics"
   ]
  },
  {
   "cell_type": "code",
   "execution_count": null,
   "metadata": {
    "slideshow": {
     "slide_type": "fragment"
    }
   },
   "outputs": [],
   "source": [
    "# My code here"
   ]
  },
  {
   "cell_type": "markdown",
   "metadata": {
    "slideshow": {
     "slide_type": "slide"
    }
   },
   "source": [
    "**Exercise**: For the `tips` dataset:\n",
    "\n",
    "1. Compute the mean and median of tip\n",
    "2. Compute the mode of day\n",
    "3. Compute the first quartile of the totbill."
   ]
  },
  {
   "cell_type": "code",
   "execution_count": null,
   "metadata": {
    "slideshow": {
     "slide_type": "fragment"
    }
   },
   "outputs": [],
   "source": [
    "## Your answers here!"
   ]
  },
  {
   "cell_type": "markdown",
   "metadata": {
    "slideshow": {
     "slide_type": "slide"
    }
   },
   "source": [
    "## Questions?"
   ]
  },
  {
   "cell_type": "markdown",
   "metadata": {
    "slideshow": {
     "slide_type": "slide"
    }
   },
   "source": [
    "## Great job! See you next class!"
   ]
  }
 ],
 "metadata": {
  "celltoolbar": "Slideshow",
  "kernelspec": {
   "display_name": "Python 3",
   "language": "python",
   "name": "python3"
  },
  "language_info": {
   "codemirror_mode": {
    "name": "ipython",
    "version": 3
   },
   "file_extension": ".py",
   "mimetype": "text/x-python",
   "name": "python",
   "nbconvert_exporter": "python",
   "pygments_lexer": "ipython3",
   "version": "3.8.8"
  },
  "varInspector": {
   "cols": {
    "lenName": 16,
    "lenType": 16,
    "lenVar": 40
   },
   "kernels_config": {
    "python": {
     "delete_cmd_postfix": "",
     "delete_cmd_prefix": "del ",
     "library": "var_list.py",
     "varRefreshCmd": "print(var_dic_list())"
    },
    "r": {
     "delete_cmd_postfix": ") ",
     "delete_cmd_prefix": "rm(",
     "library": "var_list.r",
     "varRefreshCmd": "cat(var_dic_list()) "
    }
   },
   "types_to_exclude": [
    "module",
    "function",
    "builtin_function_or_method",
    "instance",
    "_Feature"
   ],
   "window_display": false
  }
 },
 "nbformat": 4,
 "nbformat_minor": 4
}
