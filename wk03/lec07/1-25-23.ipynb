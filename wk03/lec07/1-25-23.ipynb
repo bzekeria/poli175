{
 "cells": [
  {
   "cell_type": "markdown",
   "id": "23f0bb64",
   "metadata": {},
   "source": [
    "# Linear Regression"
   ]
  },
  {
   "cell_type": "markdown",
   "id": "1be4c36b",
   "metadata": {},
   "source": [
    "## Simple Linear Regression"
   ]
  },
  {
   "cell_type": "markdown",
   "id": "33ecb58e",
   "metadata": {},
   "source": [
    "A straightforward approach for predicting a quantitaitve response $Y$ on the basis of a single predictor variable $X$.\n",
    "\n",
    "$$Y \\approx \\underbrace{\\beta_0}_{\\text{intercept}} + \\underbrace{\\beta_1}_{\\text{slope}} X$$\n",
    "\n",
    "When the training data prdouces thhe estimates for the model coefficients, predicting X can be computed by:\n",
    "\n",
    "$$\\hat{y} = \\hat{\\beta_0} + \\hat{\\beta_1}x$$"
   ]
  },
  {
   "cell_type": "markdown",
   "id": "17552c1a",
   "metadata": {},
   "source": [
    "### Estimating the Coefficients"
   ]
  },
  {
   "cell_type": "markdown",
   "id": "3fddb2fd",
   "metadata": {},
   "source": [
    "---\n",
    "> **Goal**: Find an intercept $\\hat{\\beta_0}$$ and $$\\hat{\\beta_1}$ such that the resulting line is as close as possible to $n$ data points.\n",
    "---\n",
    "**Least Squares**: a statistical procedure to find the best fit for a set of data points by minimizing the sum of the offsets or residuals of points from the plotted curve"
   ]
  },
  {
   "cell_type": "code",
   "execution_count": null,
   "id": "8e83c9a7",
   "metadata": {},
   "outputs": [],
   "source": [
    "# pg 62 islr"
   ]
  }
 ],
 "metadata": {
  "kernelspec": {
   "display_name": "Python 3",
   "language": "python",
   "name": "python3"
  },
  "language_info": {
   "codemirror_mode": {
    "name": "ipython",
    "version": 3
   },
   "file_extension": ".py",
   "mimetype": "text/x-python",
   "name": "python",
   "nbconvert_exporter": "python",
   "pygments_lexer": "ipython3",
   "version": "3.8.8"
  },
  "varInspector": {
   "cols": {
    "lenName": 16,
    "lenType": 16,
    "lenVar": 40
   },
   "kernels_config": {
    "python": {
     "delete_cmd_postfix": "",
     "delete_cmd_prefix": "del ",
     "library": "var_list.py",
     "varRefreshCmd": "print(var_dic_list())"
    },
    "r": {
     "delete_cmd_postfix": ") ",
     "delete_cmd_prefix": "rm(",
     "library": "var_list.r",
     "varRefreshCmd": "cat(var_dic_list()) "
    }
   },
   "types_to_exclude": [
    "module",
    "function",
    "builtin_function_or_method",
    "instance",
    "_Feature"
   ],
   "window_display": false
  }
 },
 "nbformat": 4,
 "nbformat_minor": 5
}
