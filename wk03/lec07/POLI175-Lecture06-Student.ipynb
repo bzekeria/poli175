{
 "cells": [
  {
   "cell_type": "markdown",
   "metadata": {
    "slideshow": {
     "slide_type": "slide"
    }
   },
   "source": [
    "# Data Visualization with Seaborn"
   ]
  },
  {
   "cell_type": "markdown",
   "metadata": {
    "slideshow": {
     "slide_type": "slide"
    }
   },
   "source": [
    "## Seaborn\n",
    "\n",
    "**`Seaborn`** is a data visualization library built on the top of `matplotlib`. It was created by [Micheal Waskon at the Center for Neural Science, New York University](https://joss.theoj.org/papers/10.21105/joss.03021).\n",
    "\n",
    "**`Seaborn`** has all the attributes of the `matplotlib` library (it is a child class), making it considerably easy to plot data using Python.\n",
    "\n",
    "We will learn some of these plots in this class and a few customizations. More about `Seaborn` can be found in [here](https://seaborn.pydata.org).\n",
    "\n",
    "Below you can find a list of functions that we can use to plot data on `Seaborn`."
   ]
  },
  {
   "cell_type": "markdown",
   "metadata": {
    "slideshow": {
     "slide_type": "slide"
    }
   },
   "source": [
    "## Seaborn\n",
    "\n",
    "![alt image](https://seaborn.pydata.org/_images/function_overview_8_0.png)"
   ]
  },
  {
   "cell_type": "code",
   "execution_count": 1,
   "metadata": {
    "slideshow": {
     "slide_type": "slide"
    }
   },
   "outputs": [],
   "source": [
    "# Importing libraries\n",
    "import pandas as pd\n",
    "import numpy as np\n",
    "import matplotlib.pyplot as plt\n",
    "import seaborn as sns # This is how you import seaborn\n",
    "\n",
    "# Datasets\n",
    "\n",
    "## Political and Economic Risk Dataset\n",
    "# Info on investment risks in 62 countries in 1992\n",
    "# courts  : 0 = not independent; 1 = independent\n",
    "# barb2   : Informal Markets Benefits\n",
    "# prsexp2 : 0 = very high expropriation risk; 5 = very low\n",
    "# prscorr2: 0 = very high bribing risk; 5 = very low\n",
    "# gdpw2   : Log of GDP per capita\n",
    "perisk = pd.read_csv('https://raw.githubusercontent.com/umbertomig/qtm151/main/datasets/PErisk.csv')\n",
    "perisk = perisk.set_index('country')"
   ]
  },
  {
   "cell_type": "code",
   "execution_count": 2,
   "metadata": {
    "slideshow": {
     "slide_type": "slide"
    }
   },
   "outputs": [],
   "source": [
    "## Tips Dataset\n",
    "# Info about tips in a given pub\n",
    "# totbill : Total Bill\n",
    "# tip     : Tip\n",
    "# sex     : F = female; M = male\n",
    "# smoker  : Yes or No\n",
    "# day     : Weekday\n",
    "# time    : Time of the day\n",
    "# size    : Number of people\n",
    "tips = pd.read_csv('https://raw.githubusercontent.com/umbertomig/qtm151/main/datasets/tips.csv')\n",
    "tips = tips.set_index('obs')"
   ]
  },
  {
   "cell_type": "markdown",
   "metadata": {
    "slideshow": {
     "slide_type": "slide"
    }
   },
   "source": [
    "### Data\n",
    "\n",
    "And here is what we have in these datasets:"
   ]
  },
  {
   "cell_type": "code",
   "execution_count": 3,
   "metadata": {
    "slideshow": {
     "slide_type": "fragment"
    }
   },
   "outputs": [
    {
     "data": {
      "text/html": [
       "<div>\n",
       "<style scoped>\n",
       "    .dataframe tbody tr th:only-of-type {\n",
       "        vertical-align: middle;\n",
       "    }\n",
       "\n",
       "    .dataframe tbody tr th {\n",
       "        vertical-align: top;\n",
       "    }\n",
       "\n",
       "    .dataframe thead th {\n",
       "        text-align: right;\n",
       "    }\n",
       "</style>\n",
       "<table border=\"1\" class=\"dataframe\">\n",
       "  <thead>\n",
       "    <tr style=\"text-align: right;\">\n",
       "      <th></th>\n",
       "      <th>courts</th>\n",
       "      <th>barb2</th>\n",
       "      <th>prsexp2</th>\n",
       "      <th>prscorr2</th>\n",
       "      <th>gdpw2</th>\n",
       "    </tr>\n",
       "    <tr>\n",
       "      <th>country</th>\n",
       "      <th></th>\n",
       "      <th></th>\n",
       "      <th></th>\n",
       "      <th></th>\n",
       "      <th></th>\n",
       "    </tr>\n",
       "  </thead>\n",
       "  <tbody>\n",
       "    <tr>\n",
       "      <th>Argentina</th>\n",
       "      <td>0</td>\n",
       "      <td>-0.720775</td>\n",
       "      <td>1</td>\n",
       "      <td>3</td>\n",
       "      <td>9.690170</td>\n",
       "    </tr>\n",
       "    <tr>\n",
       "      <th>Australia</th>\n",
       "      <td>1</td>\n",
       "      <td>-6.907755</td>\n",
       "      <td>5</td>\n",
       "      <td>4</td>\n",
       "      <td>10.304840</td>\n",
       "    </tr>\n",
       "    <tr>\n",
       "      <th>Austria</th>\n",
       "      <td>1</td>\n",
       "      <td>-4.910337</td>\n",
       "      <td>5</td>\n",
       "      <td>4</td>\n",
       "      <td>10.100940</td>\n",
       "    </tr>\n",
       "    <tr>\n",
       "      <th>Bangladesh</th>\n",
       "      <td>0</td>\n",
       "      <td>0.775975</td>\n",
       "      <td>1</td>\n",
       "      <td>0</td>\n",
       "      <td>8.379768</td>\n",
       "    </tr>\n",
       "    <tr>\n",
       "      <th>Belgium</th>\n",
       "      <td>1</td>\n",
       "      <td>-4.617344</td>\n",
       "      <td>5</td>\n",
       "      <td>4</td>\n",
       "      <td>10.250120</td>\n",
       "    </tr>\n",
       "  </tbody>\n",
       "</table>\n",
       "</div>"
      ],
      "text/plain": [
       "            courts     barb2  prsexp2  prscorr2      gdpw2\n",
       "country                                                   \n",
       "Argentina        0 -0.720775        1         3   9.690170\n",
       "Australia        1 -6.907755        5         4  10.304840\n",
       "Austria          1 -4.910337        5         4  10.100940\n",
       "Bangladesh       0  0.775975        1         0   8.379768\n",
       "Belgium          1 -4.617344        5         4  10.250120"
      ]
     },
     "execution_count": 3,
     "metadata": {},
     "output_type": "execute_result"
    }
   ],
   "source": [
    "perisk.head()"
   ]
  },
  {
   "cell_type": "code",
   "execution_count": 4,
   "metadata": {
    "slideshow": {
     "slide_type": "slide"
    }
   },
   "outputs": [
    {
     "data": {
      "text/html": [
       "<div>\n",
       "<style scoped>\n",
       "    .dataframe tbody tr th:only-of-type {\n",
       "        vertical-align: middle;\n",
       "    }\n",
       "\n",
       "    .dataframe tbody tr th {\n",
       "        vertical-align: top;\n",
       "    }\n",
       "\n",
       "    .dataframe thead th {\n",
       "        text-align: right;\n",
       "    }\n",
       "</style>\n",
       "<table border=\"1\" class=\"dataframe\">\n",
       "  <thead>\n",
       "    <tr style=\"text-align: right;\">\n",
       "      <th></th>\n",
       "      <th>totbill</th>\n",
       "      <th>tip</th>\n",
       "      <th>sex</th>\n",
       "      <th>smoker</th>\n",
       "      <th>day</th>\n",
       "      <th>time</th>\n",
       "      <th>size</th>\n",
       "    </tr>\n",
       "    <tr>\n",
       "      <th>obs</th>\n",
       "      <th></th>\n",
       "      <th></th>\n",
       "      <th></th>\n",
       "      <th></th>\n",
       "      <th></th>\n",
       "      <th></th>\n",
       "      <th></th>\n",
       "    </tr>\n",
       "  </thead>\n",
       "  <tbody>\n",
       "    <tr>\n",
       "      <th>1</th>\n",
       "      <td>16.99</td>\n",
       "      <td>1.01</td>\n",
       "      <td>F</td>\n",
       "      <td>No</td>\n",
       "      <td>Sun</td>\n",
       "      <td>Night</td>\n",
       "      <td>2</td>\n",
       "    </tr>\n",
       "    <tr>\n",
       "      <th>2</th>\n",
       "      <td>10.34</td>\n",
       "      <td>1.66</td>\n",
       "      <td>M</td>\n",
       "      <td>No</td>\n",
       "      <td>Sun</td>\n",
       "      <td>Night</td>\n",
       "      <td>3</td>\n",
       "    </tr>\n",
       "    <tr>\n",
       "      <th>3</th>\n",
       "      <td>21.01</td>\n",
       "      <td>3.50</td>\n",
       "      <td>M</td>\n",
       "      <td>No</td>\n",
       "      <td>Sun</td>\n",
       "      <td>Night</td>\n",
       "      <td>3</td>\n",
       "    </tr>\n",
       "    <tr>\n",
       "      <th>4</th>\n",
       "      <td>23.68</td>\n",
       "      <td>3.31</td>\n",
       "      <td>M</td>\n",
       "      <td>No</td>\n",
       "      <td>Sun</td>\n",
       "      <td>Night</td>\n",
       "      <td>2</td>\n",
       "    </tr>\n",
       "    <tr>\n",
       "      <th>5</th>\n",
       "      <td>24.59</td>\n",
       "      <td>3.61</td>\n",
       "      <td>F</td>\n",
       "      <td>No</td>\n",
       "      <td>Sun</td>\n",
       "      <td>Night</td>\n",
       "      <td>4</td>\n",
       "    </tr>\n",
       "  </tbody>\n",
       "</table>\n",
       "</div>"
      ],
      "text/plain": [
       "     totbill   tip sex smoker  day   time  size\n",
       "obs                                            \n",
       "1      16.99  1.01   F     No  Sun  Night     2\n",
       "2      10.34  1.66   M     No  Sun  Night     3\n",
       "3      21.01  3.50   M     No  Sun  Night     3\n",
       "4      23.68  3.31   M     No  Sun  Night     2\n",
       "5      24.59  3.61   F     No  Sun  Night     4"
      ]
     },
     "execution_count": 4,
     "metadata": {},
     "output_type": "execute_result"
    }
   ],
   "source": [
    "tips.head()"
   ]
  },
  {
   "cell_type": "markdown",
   "metadata": {
    "slideshow": {
     "slide_type": "slide"
    }
   },
   "source": [
    "## Plotting Data 101\n",
    "\n",
    "The best way to explore the data is to plot it.\n",
    "\n",
    "However, not all plots are suitable for the variables we want to describe. \n",
    "\n",
    "Starting with a single variable, the first question is what type of variable we are talking about?"
   ]
  },
  {
   "cell_type": "markdown",
   "metadata": {
    "slideshow": {
     "slide_type": "slide"
    }
   },
   "source": [
    "## Plotting Data 101\n",
    "\n",
    "Types of variables:\n",
    "\n",
    "- `Quantitative` variables: represent measurement.\n",
    "    \n",
    "    + `Discrete`: number of children, age in years, etc.\n",
    "    \n",
    "    + `Continuous`: income, height, GDP per capita, etc.\n",
    "\n",
    "- `Categorical` variables: represent discrete variation\n",
    "\n",
    "    + `Binary`: voted for Trump, smokes or not, etc.\n",
    "    \n",
    "    + `Nominal`: species names, a candidate supported in the primaries, etc.\n",
    "    \n",
    "    + `Ordinal`: schooling, grade, risk, etc."
   ]
  },
  {
   "cell_type": "markdown",
   "metadata": {},
   "source": [
    "# check podcast for type of graphs\n",
    "- Quantitative x Quantitative = \n",
    "- Quantitative x Qualitative = \n",
    "- Qualitative x Qualitative = "
   ]
  },
  {
   "cell_type": "code",
   "execution_count": 5,
   "metadata": {
    "slideshow": {
     "slide_type": "slide"
    }
   },
   "outputs": [
    {
     "data": {
      "text/plain": [
       "count    62.000000\n",
       "mean      9.041875\n",
       "std       0.970264\n",
       "min       7.029973\n",
       "25%       8.381027\n",
       "50%       9.185412\n",
       "75%       9.889280\n",
       "max      10.410180\n",
       "Name: gdpw2, dtype: float64"
      ]
     },
     "execution_count": 5,
     "metadata": {},
     "output_type": "execute_result"
    }
   ],
   "source": [
    "# Summary stats for a continuous variable (good)\n",
    "perisk['gdpw2'].describe()"
   ]
  },
  {
   "cell_type": "code",
   "execution_count": 6,
   "metadata": {
    "slideshow": {
     "slide_type": "slide"
    }
   },
   "outputs": [
    {
     "data": {
      "text/plain": [
       "7.096721     1\n",
       "9.661735     1\n",
       "9.375601     1\n",
       "9.414342     1\n",
       "9.178953     1\n",
       "            ..\n",
       "10.127270    1\n",
       "9.690170     1\n",
       "7.029973     1\n",
       "8.548692     1\n",
       "9.891465     1\n",
       "Name: gdpw2, Length: 62, dtype: int64"
      ]
     },
     "execution_count": 6,
     "metadata": {},
     "output_type": "execute_result"
    }
   ],
   "source": [
    "# Frequency table for a continuous variable (bad)\n",
    "perisk['gdpw2'].value_counts()"
   ]
  },
  {
   "cell_type": "code",
   "execution_count": 7,
   "metadata": {
    "slideshow": {
     "slide_type": "slide"
    }
   },
   "outputs": [
    {
     "data": {
      "text/plain": [
       "count    62.000000\n",
       "mean      0.451613\n",
       "std       0.501716\n",
       "min       0.000000\n",
       "25%       0.000000\n",
       "50%       0.000000\n",
       "75%       1.000000\n",
       "max       1.000000\n",
       "Name: courts, dtype: float64"
      ]
     },
     "execution_count": 7,
     "metadata": {},
     "output_type": "execute_result"
    }
   ],
   "source": [
    "# Summary stats for a binary variable (bad)\n",
    "perisk['courts'].describe()"
   ]
  },
  {
   "cell_type": "code",
   "execution_count": 8,
   "metadata": {
    "slideshow": {
     "slide_type": "fragment"
    }
   },
   "outputs": [
    {
     "data": {
      "text/plain": [
       "0    34\n",
       "1    28\n",
       "Name: courts, dtype: int64"
      ]
     },
     "execution_count": 8,
     "metadata": {},
     "output_type": "execute_result"
    }
   ],
   "source": [
    "# Frequency table for a binary variable (good)\n",
    "perisk['courts'].value_counts()"
   ]
  },
  {
   "cell_type": "markdown",
   "metadata": {
    "slideshow": {
     "slide_type": "slide"
    }
   },
   "source": [
    "## Univariate Plots\n",
    "\n",
    "*Univariate plots* are plots for single variables.\n",
    "\n",
    "### Quantitative Variables: Histograms\n",
    "\n",
    "Starting with numerical variables, one suitable plot is the *histogram*. It breaks the numerical values into brackets and counts how many values are within each bracket."
   ]
  },
  {
   "cell_type": "markdown",
   "metadata": {
    "slideshow": {
     "slide_type": "slide"
    }
   },
   "source": [
    "## Univariate Plots\n",
    "\n",
    "### Quantitative Variables: Histograms\n",
    "\n",
    "The syntax is:\n",
    "\n",
    "```\n",
    "sns.displot(data = the_data_frame,\n",
    "    x = 'the_variable',\n",
    "    kind = 'hist',\n",
    "    kde = [..True or False..], \n",
    "    rug = [..True or False..],\n",
    "    bins = [..number of bins..], \n",
    "    stat : [..{\"count\", \"density\", \"probability\"}..],\n",
    "    [..among others..])\n",
    "```"
   ]
  },
  {
   "cell_type": "code",
   "execution_count": 9,
   "metadata": {
    "slideshow": {
     "slide_type": "slide"
    }
   },
   "outputs": [
    {
     "data": {
      "image/png": "[encoded data removed]",
      "text/plain": [
       "<Figure size 360x360 with 1 Axes>"
      ]
     },
     "metadata": {
      "needs_background": "light"
     },
     "output_type": "display_data"
    }
   ],
   "source": [
    "# My code here\n",
    "sns.displot(data = perisk, \n",
    "            x = \"gdpw2\",\n",
    "            kind = \"hist\")\n",
    "\n",
    "plt.show()"
   ]
  },
  {
   "cell_type": "code",
   "execution_count": 10,
   "metadata": {},
   "outputs": [
    {
     "data": {
      "image/png": "[encoded data removed]",
      "text/plain": [
       "<Figure size 360x360 with 1 Axes>"
      ]
     },
     "metadata": {
      "needs_background": "light"
     },
     "output_type": "display_data"
    }
   ],
   "source": [
    "sns.displot(data = perisk, \n",
    "            x = \"gdpw2\",\n",
    "            kind = \"hist\",\n",
    "            kde = True)\n",
    "\n",
    "plt.show()"
   ]
  },
  {
   "cell_type": "code",
   "execution_count": 11,
   "metadata": {},
   "outputs": [
    {
     "data": {
      "image/png": "[encoded data removed]",
      "text/plain": [
       "<Figure size 360x360 with 1 Axes>"
      ]
     },
     "metadata": {
      "needs_background": "light"
     },
     "output_type": "display_data"
    }
   ],
   "source": [
    "sns.displot(data = perisk, \n",
    "            x = \"gdpw2\",\n",
    "            kind = \"hist\",\n",
    "            kde = True, \n",
    "            rug = True)\n",
    "\n",
    "plt.show()"
   ]
  },
  {
   "cell_type": "markdown",
   "metadata": {
    "slideshow": {
     "slide_type": "slide"
    }
   },
   "source": [
    "### Customizations\n",
    "\n",
    "We can easily customize the entire plot:\n",
    "\n",
    "1. **Main title**: `plt.title('title here')`\n",
    "\n",
    "2. **X-axis title**: `g.set_xlabels('text')` or `plt.xlabel('text')`\n",
    "\n",
    "3. **Y-axis title**: `g.set_ylabels('text')` or `plt.ylabel('text')`\n",
    "\n",
    "4. **Style**: 'white', 'dark', 'whitegrid', 'darkgrid', and 'ticks'. Usage: `sns.set_style('stylename')`\n",
    "\n",
    "5. Remove the spine: `g.despine(left = True)`\n",
    "\n",
    "6. **Current Palette + display the palette**: `sns.palplot(sns.color_palette())`\n",
    "\n",
    "7. **Which palettes**: `sns.palettes.SEABORN_PALETTES` and to change, use `set_palette('palette')`\n",
    "\n",
    "8. **Save figure**: instead of `plt.show()` use `plt.savefig('figname.png', transparent = False)`.\n",
    "\n",
    "9. **Context**: set the context between 'paper', 'notebook', 'talk', and 'poster'. Use `sns.set_context('context here')`\n",
    "\n",
    "There are even more customization that we can do. Please check the [seaborn documentation](https://seaborn.pydata.org/tutorial/function_overview.html) for more details."
   ]
  },
  {
   "cell_type": "code",
   "execution_count": 18,
   "metadata": {
    "slideshow": {
     "slide_type": "slide"
    }
   },
   "outputs": [
    {
     "data": {
      "image/png": "[encoded data removed]",
      "text/plain": [
       "<Figure size 360x360 with 1 Axes>"
      ]
     },
     "metadata": {},
     "output_type": "display_data"
    }
   ],
   "source": [
    "# My code here\n",
    "sns.set_style(\"white\")\n",
    "\n",
    "sns.set_context(\"talk\") # pretty cool feature\n",
    "\n",
    "g = sns.displot(data = perisk, \n",
    "            x = \"gdpw2\",\n",
    "            kind = \"hist\",\n",
    "            kde = True, \n",
    "            rug = True)\n",
    "\n",
    "g.despine(left = True)\n",
    "\n",
    "g.set_xlabels(\"GDP\")\n",
    "\n",
    "plt.title(\"Histogram of Log of GDP Per Capita\")\n",
    "\n",
    "plt.show()"
   ]
  },
  {
   "cell_type": "code",
   "execution_count": 19,
   "metadata": {},
   "outputs": [
    {
     "data": {
      "image/png": "[encoded data removed]",
      "text/plain": [
       "<Figure size 720x72 with 1 Axes>"
      ]
     },
     "metadata": {},
     "output_type": "display_data"
    }
   ],
   "source": [
    "# the graph color goes in order by default unless defined otherwise\n",
    "sns.palplot(sns.color_palette())"
   ]
  },
  {
   "cell_type": "code",
   "execution_count": 20,
   "metadata": {},
   "outputs": [
    {
     "data": {
      "text/plain": [
       "{'deep': ['#4C72B0',\n",
       "  '#DD8452',\n",
       "  '#55A868',\n",
       "  '#C44E52',\n",
       "  '#8172B3',\n",
       "  '#937860',\n",
       "  '#DA8BC3',\n",
       "  '#8C8C8C',\n",
       "  '#CCB974',\n",
       "  '#64B5CD'],\n",
       " 'deep6': ['#4C72B0', '#55A868', '#C44E52', '#8172B3', '#CCB974', '#64B5CD'],\n",
       " 'muted': ['#4878D0',\n",
       "  '#EE854A',\n",
       "  '#6ACC64',\n",
       "  '#D65F5F',\n",
       "  '#956CB4',\n",
       "  '#8C613C',\n",
       "  '#DC7EC0',\n",
       "  '#797979',\n",
       "  '#D5BB67',\n",
       "  '#82C6E2'],\n",
       " 'muted6': ['#4878D0', '#6ACC64', '#D65F5F', '#956CB4', '#D5BB67', '#82C6E2'],\n",
       " 'pastel': ['#A1C9F4',\n",
       "  '#FFB482',\n",
       "  '#8DE5A1',\n",
       "  '#FF9F9B',\n",
       "  '#D0BBFF',\n",
       "  '#DEBB9B',\n",
       "  '#FAB0E4',\n",
       "  '#CFCFCF',\n",
       "  '#FFFEA3',\n",
       "  '#B9F2F0'],\n",
       " 'pastel6': ['#A1C9F4', '#8DE5A1', '#FF9F9B', '#D0BBFF', '#FFFEA3', '#B9F2F0'],\n",
       " 'bright': ['#023EFF',\n",
       "  '#FF7C00',\n",
       "  '#1AC938',\n",
       "  '#E8000B',\n",
       "  '#8B2BE2',\n",
       "  '#9F4800',\n",
       "  '#F14CC1',\n",
       "  '#A3A3A3',\n",
       "  '#FFC400',\n",
       "  '#00D7FF'],\n",
       " 'bright6': ['#023EFF', '#1AC938', '#E8000B', '#8B2BE2', '#FFC400', '#00D7FF'],\n",
       " 'dark': ['#001C7F',\n",
       "  '#B1400D',\n",
       "  '#12711C',\n",
       "  '#8C0800',\n",
       "  '#591E71',\n",
       "  '#592F0D',\n",
       "  '#A23582',\n",
       "  '#3C3C3C',\n",
       "  '#B8850A',\n",
       "  '#006374'],\n",
       " 'dark6': ['#001C7F', '#12711C', '#8C0800', '#591E71', '#B8850A', '#006374'],\n",
       " 'colorblind': ['#0173B2',\n",
       "  '#DE8F05',\n",
       "  '#029E73',\n",
       "  '#D55E00',\n",
       "  '#CC78BC',\n",
       "  '#CA9161',\n",
       "  '#FBAFE4',\n",
       "  '#949494',\n",
       "  '#ECE133',\n",
       "  '#56B4E9'],\n",
       " 'colorblind6': ['#0173B2',\n",
       "  '#029E73',\n",
       "  '#D55E00',\n",
       "  '#CC78BC',\n",
       "  '#ECE133',\n",
       "  '#56B4E9']}"
      ]
     },
     "execution_count": 20,
     "metadata": {},
     "output_type": "execute_result"
    }
   ],
   "source": [
    "sns.palettes.SEABORN_PALETTES"
   ]
  },
  {
   "cell_type": "markdown",
   "metadata": {},
   "source": [
    "To get a respective color's hex code, click [here](https://hexcolor.co/pantone-colors_)"
   ]
  },
  {
   "cell_type": "markdown",
   "metadata": {
    "slideshow": {
     "slide_type": "slide"
    }
   },
   "source": [
    "### **Exercise**:\n",
    "\n",
    "Using the histogram, describe the variables `totbill` and `tip` in the `tips` dataset."
   ]
  },
  {
   "cell_type": "code",
   "execution_count": 24,
   "metadata": {
    "slideshow": {
     "slide_type": "fragment"
    }
   },
   "outputs": [
    {
     "data": {
      "image/png": "[encoded data removed]",
      "text/plain": [
       "<Figure size 360x360 with 1 Axes>"
      ]
     },
     "metadata": {},
     "output_type": "display_data"
    }
   ],
   "source": [
    "## Your code here\n",
    "sns.displot(data = tips, \n",
    "            x = \"totbill\",\n",
    "            y = \"tip\",\n",
    "            kind = \"hist\")\n",
    "\n",
    "plt.show()"
   ]
  },
  {
   "cell_type": "markdown",
   "metadata": {
    "slideshow": {
     "slide_type": "slide"
    }
   },
   "source": [
    "### Categorical Variables: Countplot\n",
    "\n",
    "Countplots are suitable for displaying categorical variables. \n",
    "\n",
    "The syntax is:\n",
    "\n",
    "```\n",
    "sns.catplot(\n",
    "    data = the_data_frame,\n",
    "    x = 'the_variable', \n",
    "    kind = 'count')\n",
    "```\n",
    "\n",
    "Let's check the risk of expropriation in each of the countries in 1992."
   ]
  },
  {
   "cell_type": "code",
   "execution_count": 25,
   "metadata": {
    "slideshow": {
     "slide_type": "slide"
    }
   },
   "outputs": [
    {
     "data": {
      "image/png": "[encoded data removed]",
      "text/plain": [
       "<Figure size 360x360 with 1 Axes>"
      ]
     },
     "metadata": {},
     "output_type": "display_data"
    }
   ],
   "source": [
    "# My code here\n",
    "sns.catplot(data = perisk, \n",
    "           x = \"prsexp2\",\n",
    "           kind = 'count')\n",
    "\n",
    "plt.show()"
   ]
  },
  {
   "cell_type": "markdown",
   "metadata": {
    "slideshow": {
     "slide_type": "slide"
    }
   },
   "source": [
    "## Customizations\n",
    "\n",
    "All the customizations that we learn apply here as well. We can use them to prettify this plot. \n",
    "\n",
    "However, since the scale is out of order, we can change the order of the x-axis values using the `order` parameter.\n",
    "\n",
    "Even more, for `ordinal` data, it is customary to use a sequential color scheme, i.e., it gets darker as we increase the categories."
   ]
  },
  {
   "cell_type": "markdown",
   "metadata": {
    "slideshow": {
     "slide_type": "slide"
    }
   },
   "source": [
    "## Customizations\n",
    "\n",
    "We can use several palettes:\n",
    "\n",
    "1. `Blues`\n",
    "2. `Greys`\n",
    "3. `PuRd`: Light Purple to Dark Red\n",
    "4. `GnBu`: Light Green to Dark Blue\n",
    "\n",
    "Among others. The syntax to create the color scheme is:\n",
    "\n",
    "```\n",
    "sns.set_palette(\n",
    "    sns.color_palette(\"color_scheme\", # If want revert add '_r'\n",
    "                      [..number_of_colors or as_cmap=True..])\n",
    ")\n",
    "```\n",
    "\n",
    "For more about color palettes, please check [here](https://seaborn.pydata.org/tutorial/color_palettes.html)."
   ]
  },
  {
   "cell_type": "code",
   "execution_count": null,
   "metadata": {
    "slideshow": {
     "slide_type": "slide"
    }
   },
   "outputs": [],
   "source": [
    "# My code here"
   ]
  },
  {
   "cell_type": "markdown",
   "metadata": {
    "slideshow": {
     "slide_type": "slide"
    }
   },
   "source": [
    "### **Exercise**\n",
    "\n",
    "Do a countplot for the days (`day`) in the `tips` dataset."
   ]
  },
  {
   "cell_type": "code",
   "execution_count": null,
   "metadata": {
    "slideshow": {
     "slide_type": "fragment"
    }
   },
   "outputs": [],
   "source": [
    "## Your answer here"
   ]
  },
  {
   "cell_type": "markdown",
   "metadata": {
    "slideshow": {
     "slide_type": "slide"
    }
   },
   "source": [
    "## Bivariate Plots\n",
    "\n",
    "Univariate plots are excellent. But in reality, most of the exciting questions in science come from combinations of multiple variables (e.g., cause and effect, correlations, relationships, etc). \n",
    "\n",
    "For two variables' plots there are three combinations:\n",
    "\n",
    "- **discrete x discrete**: mosaic plot\n",
    "\n",
    "- **discrete x continuous**: several useful types\n",
    "\n",
    "- **continuous x continuous**: scatterplots"
   ]
  },
  {
   "cell_type": "markdown",
   "metadata": {
    "slideshow": {
     "slide_type": "slide"
    }
   },
   "source": [
    "## Bivariate Plots\n",
    "\n",
    "### Discrete x Discrete Variables: Mosaicplot\n",
    "\n",
    "The mosaic plot gives an idea of how the ratio of one variable changes when we change another variable. For instance, one empirical question that we can ask about the `perisk` dataset is:\n",
    "\n",
    "**Do countries with independent courts have less corruption than countries without independent courts?**\n",
    "\n",
    "The code to test this idea takes two steps. First, we need to prep the data. Then, we plot the data using the `kind = 'bar'` in the `catplot` function.\n",
    "\n",
    "We need to create a table with cumulative values for the two variables we want to study to prep the data. Here is an example of how to do that:\n",
    "\n",
    "```\n",
    "tab = pd.crosstab(df.v1, df.v2, normalize='index') # 1: Crosstab\n",
    "tab = tab.cumsum(axis = 1).\\     # 2: Cummulative sum\n",
    "      stack().\\                  # 3: Stack the results\n",
    "      reset_index(name = 'dist') # 4: Reset the indexes\n",
    "tab\n",
    "```"
   ]
  },
  {
   "cell_type": "markdown",
   "metadata": {
    "slideshow": {
     "slide_type": "slide"
    }
   },
   "source": [
    "## Bivariate Plots\n",
    "\n",
    "### Discrete x Discrete Variables: Mosaicplot\n",
    "\n",
    "Then, we need to plot the results using `catplot`:\n",
    "\n",
    "```\n",
    "sns.catplot(data = tab,\n",
    "            x = 'v1', # More variation here\n",
    "            y = 'dist', # Proportions\n",
    "            hue = 'v2', # Less variation here\n",
    "            # Comment hue_order if not displaying well\n",
    "            hue_order = tab.v2.unique()[::-1], \n",
    "            dodge = False,\n",
    "            kind = 'bar')\n",
    "plt.show()\n",
    "```\n",
    "\n",
    "*Full disclosure*: A function exists that builds mosaic plots in one line of code. However, I find the results very ugly. You can Google `mosaic plot in python` and check that yourself."
   ]
  },
  {
   "cell_type": "code",
   "execution_count": null,
   "metadata": {
    "slideshow": {
     "slide_type": "slide"
    }
   },
   "outputs": [],
   "source": [
    "# My code here"
   ]
  },
  {
   "cell_type": "code",
   "execution_count": null,
   "metadata": {
    "slideshow": {
     "slide_type": "slide"
    }
   },
   "outputs": [],
   "source": [
    "# My code here"
   ]
  },
  {
   "cell_type": "markdown",
   "metadata": {
    "slideshow": {
     "slide_type": "slide"
    }
   },
   "source": [
    "### **Exercise**\n",
    "\n",
    "Do the number of smokers (variable `smoker`) vary by the weekday (`day`)?"
   ]
  },
  {
   "cell_type": "code",
   "execution_count": null,
   "metadata": {
    "slideshow": {
     "slide_type": "fragment"
    }
   },
   "outputs": [],
   "source": [
    "## Your answers here\n",
    "tips.head()"
   ]
  },
  {
   "cell_type": "markdown",
   "metadata": {
    "slideshow": {
     "slide_type": "slide"
    }
   },
   "source": [
    "### Discrete x Continuous Variables: Boxplots, Swarmplots, Violinplots\n",
    "\n",
    "Suppose we want to test whether the data distribution varies based on a categorical variable. For example:\n",
    "\n",
    "**Do you think that having an independent judiciary affects the GDP per capita of a country?**\n",
    "\n",
    "We can check if this hypothesis makes sense by looking into the distribution of GDP per capita and segmenting it by the type of judicial institution.\n",
    "\n",
    "The syntax for building these plots is almost the same as making a single boxplot. The difference is that you add the categorical variable to one of the axes:\n",
    "\n",
    "```\n",
    "sns.catplot(\n",
    "    data = data_set, \n",
    "    x = 'categorical_variable',\n",
    "    y = 'continuous_variable',\n",
    "    kind = 'box') # Or 'violin', 'swarm', 'boxen', 'bar'..\n",
    "```"
   ]
  },
  {
   "cell_type": "code",
   "execution_count": 26,
   "metadata": {
    "slideshow": {
     "slide_type": "slide"
    }
   },
   "outputs": [
    {
     "data": {
      "image/png": "[encoded data removed]",
      "text/plain": [
       "<Figure size 360x360 with 1 Axes>"
      ]
     },
     "metadata": {},
     "output_type": "display_data"
    }
   ],
   "source": [
    "# My code here\n",
    "sns.catplot(data = perisk,\n",
    "           x = \"courts\",\n",
    "           y = \"gdpw2\",\n",
    "           kind = \"box\")\n",
    "\n",
    "plt.show()"
   ]
  },
  {
   "cell_type": "code",
   "execution_count": 27,
   "metadata": {},
   "outputs": [
    {
     "data": {
      "image/png": "[encoded data removed]",
      "text/plain": [
       "<Figure size 360x360 with 1 Axes>"
      ]
     },
     "metadata": {},
     "output_type": "display_data"
    }
   ],
   "source": [
    "sns.catplot(data = perisk,\n",
    "           x = \"courts\",\n",
    "           y = \"gdpw2\",\n",
    "           kind = \"swarm\")\n",
    "\n",
    "plt.show()"
   ]
  },
  {
   "cell_type": "markdown",
   "metadata": {
    "slideshow": {
     "slide_type": "slide"
    }
   },
   "source": [
    "### **Exercise**\n",
    "\n",
    "Are the tips from smokers higher than tips from non-smokers? (the idea is that smokers would compensate non-smokers for the externality caused) Check that in the `tips` dataset."
   ]
  },
  {
   "cell_type": "code",
   "execution_count": null,
   "metadata": {
    "slideshow": {
     "slide_type": "fragment"
    }
   },
   "outputs": [],
   "source": [
    "## Your answers here"
   ]
  },
  {
   "cell_type": "markdown",
   "metadata": {
    "slideshow": {
     "slide_type": "slide"
    }
   },
   "source": [
    "### Continuous x Continuous Variables: Scatterplots and Regplots\n",
    "\n",
    "To plot two continuous variables, one against the other, we can use two functions. First, we can use the `relplot` function if we want to explore the relationship without fitting any trend line. The syntax is the following:\n",
    "\n",
    "```\n",
    "sns.relplot(data = data_set,\n",
    "            x = 'independent_axis_continuous_variable',\n",
    "            y = 'dependent_axis_continuous_variable',\n",
    "            hue = 'optional_categorical_to_color',\n",
    "            kind = 'scatter')\n",
    "```"
   ]
  },
  {
   "cell_type": "markdown",
   "metadata": {
    "slideshow": {
     "slide_type": "slide"
    }
   },
   "source": [
    "### Continuous x Continuous Variables: Scatterplots and Regplots\n",
    "\n",
    "And an excellent version of it, with distribution plots on the top and the left, can be built using the `jointplot` function:\n",
    "\n",
    "```\n",
    "sns.jointplot(data = data_set,\n",
    "              x = 'independent_axis_continuous_variable',\n",
    "              y = 'dependent_axis_continuous_variable',\n",
    "              hue = 'optional_categorical_to_color',\n",
    "              kind = 'scatter') # Or 'scatter', 'kde', 'hist', 'hex', 'reg', 'resid'\n",
    "```"
   ]
  },
  {
   "cell_type": "markdown",
   "metadata": {
    "slideshow": {
     "slide_type": "slide"
    }
   },
   "source": [
    "### Continuous x Continuous Variables: Scatterplots and Regplots\n",
    "\n",
    "If you want to add a trend line, it is better to use `lmplot` (instead of 'reg' in the plot above). The syntax is the following:\n",
    "\n",
    "```\n",
    "sns.lmplot(data = data_set,\n",
    "    x = \"total_bill\", \n",
    "    y = \"tip\", \n",
    "    hue = \"smoker\",\n",
    "    logistic = ..False or True.., # Logistic fit for discrete y\n",
    "    order = ..polynomial order.., # Polynomial degree\n",
    "    lowess = ..False or True..,   # Lowess fit\n",
    "    ci = ..None..)                # Remove conf. int.\n",
    "```"
   ]
  },
  {
   "cell_type": "code",
   "execution_count": null,
   "metadata": {
    "slideshow": {
     "slide_type": "slide"
    }
   },
   "outputs": [],
   "source": [
    "# My code here"
   ]
  },
  {
   "cell_type": "code",
   "execution_count": null,
   "metadata": {
    "slideshow": {
     "slide_type": "slide"
    }
   },
   "outputs": [],
   "source": [
    "# My code here"
   ]
  },
  {
   "cell_type": "code",
   "execution_count": null,
   "metadata": {
    "slideshow": {
     "slide_type": "slide"
    }
   },
   "outputs": [],
   "source": [
    "# My code here"
   ]
  },
  {
   "cell_type": "code",
   "execution_count": null,
   "metadata": {
    "slideshow": {
     "slide_type": "slide"
    }
   },
   "outputs": [],
   "source": [
    "# My code here"
   ]
  },
  {
   "cell_type": "markdown",
   "metadata": {
    "slideshow": {
     "slide_type": "slide"
    }
   },
   "source": [
    "### **Exercise**\n",
    "\n",
    "Are the tips related with total bill in the `tips` dataset?"
   ]
  },
  {
   "cell_type": "code",
   "execution_count": null,
   "metadata": {
    "slideshow": {
     "slide_type": "fragment"
    }
   },
   "outputs": [],
   "source": [
    "## Your answers here"
   ]
  },
  {
   "cell_type": "markdown",
   "metadata": {
    "slideshow": {
     "slide_type": "slide"
    }
   },
   "source": [
    "## Great job! See you in the next class!"
   ]
  },
  {
   "cell_type": "markdown",
   "metadata": {
    "slideshow": {
     "slide_type": "slide"
    }
   },
   "source": [
    "## Extras\n",
    "\n",
    "Excellent job learning `seaborn`! It is an easy-to-use yet powerful package to generate lovely plots.\n",
    "\n",
    "Next, you should take a look at the following packages to keep developing your skills:\n",
    "\n",
    "- [`plotnine`](https://plotnine.readthedocs.io/en/stable/index.html#): Implements the ggplot *grammar of graphs* in python\n",
    "\n",
    "- [`cartopy`](https://github.com/SciTools/cartopy): Package to make maps in python.\n",
    "\n",
    "- [`plotly`](https://plotly.com): Builds interactive graphs in python (and other languages). Check also the [`dash`](https://dash.plotly.com/introduction) for plotly in python."
   ]
  },
  {
   "cell_type": "code",
   "execution_count": null,
   "metadata": {
    "slideshow": {
     "slide_type": "slide"
    }
   },
   "outputs": [],
   "source": [
    "## Extra Datasets\n",
    "\n",
    "## Political Information Dataset\n",
    "# ANES 2000 Political Information based on interviews\n",
    "# polInf          : Political Information\n",
    "# collegeDegree   : College Degree\n",
    "# female          : Female\n",
    "# age             : Age in years\n",
    "# homeOwn         : Own house\n",
    "# others...\n",
    "polinf = pd.read_csv('https://raw.githubusercontent.com/umbertomig/qtm151/main/datasets/pinf.csv')\n",
    "pinf_order = ['Very Low', 'Fairly Low', 'Average', 'Fairly High', 'Very High']\n",
    "polinf['polInf'] = pd.Categorical(polinf.polInf, \n",
    "                                  ordered=True, \n",
    "                                  categories=pinf_order)\n",
    "print(polinf.head())\n",
    "\n",
    "## US Crime data in the 1970's\n",
    "# Data on violent crime in the US\n",
    "# Muder: number of murders in the state\n",
    "# Assault: number of assaults in the state\n",
    "# others...\n",
    "usarrests = pd.read_csv('https://raw.githubusercontent.com/umbertomig/seabornClass/main/data/usarrests.csv')\n",
    "print(usarrests.head())"
   ]
  },
  {
   "cell_type": "markdown",
   "metadata": {
    "slideshow": {
     "slide_type": "slide"
    }
   },
   "source": [
    "### Exercises\n",
    "\n",
    "1. (Univariate) In the `polinf` dataset, make a count plot of the variable `polInf`. Imagine you want to use this for a talk, so adjust the context. Change the x-axis label and title to appropriate descriptions of the data. (Hint: to rotate the axis tick labels, use `plt.xticks(rotation=number_degree_of_your_choice)`)\n",
    "\n",
    "2. (Univariate) In the `polinf` dataset, make a histogram of the variable `age`.\n",
    "\n",
    "3. (Bivariate) Do you think political information varies with a college degree? Check that using the `polinf` dataset!\n",
    "\n",
    "4. (Bivariate) Do you think political information varies with age? Check that using the `polinf` dataset!\n",
    "\n",
    "5. (Bivariate) Do you think there is a correlation between `Murder` and `Assault`? Check that using the `usarrests` dataset!\n",
    "\n",
    "6. (Challenge: Multivariate) There are four continuous indicators in the `usarrests` dataset: `Murder`, `Assault`, `UrbanPop`, and `Rape`. Do you think you can build a scatterplot matrix? The documentation is in [here](https://seaborn.pydata.org/examples/scatterplot_matrix.html)."
   ]
  }
 ],
 "metadata": {
  "celltoolbar": "Slideshow",
  "kernelspec": {
   "display_name": "Python 3",
   "language": "python",
   "name": "python3"
  },
  "language_info": {
   "codemirror_mode": {
    "name": "ipython",
    "version": 3
   },
   "file_extension": ".py",
   "mimetype": "text/x-python",
   "name": "python",
   "nbconvert_exporter": "python",
   "pygments_lexer": "ipython3",
   "version": "3.8.8"
  },
  "varInspector": {
   "cols": {
    "lenName": 16,
    "lenType": 16,
    "lenVar": 40
   },
   "kernels_config": {
    "python": {
     "delete_cmd_postfix": "",
     "delete_cmd_prefix": "del ",
     "library": "var_list.py",
     "varRefreshCmd": "print(var_dic_list())"
    },
    "r": {
     "delete_cmd_postfix": ") ",
     "delete_cmd_prefix": "rm(",
     "library": "var_list.r",
     "varRefreshCmd": "cat(var_dic_list()) "
    }
   },
   "types_to_exclude": [
    "module",
    "function",
    "builtin_function_or_method",
    "instance",
    "_Feature"
   ],
   "window_display": false
  }
 },
 "nbformat": 4,
 "nbformat_minor": 4
}
